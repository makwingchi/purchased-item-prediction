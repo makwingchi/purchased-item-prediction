{
 "cells": [
  {
   "cell_type": "code",
   "execution_count": 37,
   "id": "42e88320-f4eb-4a04-bfcf-272d5b17036c",
   "metadata": {
    "execution": {
     "iopub.execute_input": "2023-07-13T03:53:47.981284Z",
     "iopub.status.busy": "2023-07-13T03:53:47.980444Z",
     "iopub.status.idle": "2023-07-13T03:53:47.986026Z",
     "shell.execute_reply": "2023-07-13T03:53:47.985078Z",
     "shell.execute_reply.started": "2023-07-13T03:53:47.981252Z"
    },
    "tags": []
   },
   "outputs": [],
   "source": [
    "import os\n",
    "import time\n",
    "import math\n",
    "import datetime\n",
    "\n",
    "import gc\n",
    "\n",
    "from multiprocessing import Pool, cpu_count\n",
    "\n",
    "import numpy as np\n",
    "import pandas as pd\n",
    "\n",
    "from sklearn.preprocessing import LabelEncoder\n",
    "\n",
    "from functools import reduce"
   ]
  },
  {
   "cell_type": "code",
   "execution_count": 2,
   "id": "a7500539-04fc-49af-9c75-df6c61adc8a0",
   "metadata": {
    "execution": {
     "iopub.execute_input": "2023-07-13T03:46:12.320325Z",
     "iopub.status.busy": "2023-07-13T03:46:12.319927Z",
     "iopub.status.idle": "2023-07-13T03:46:17.192627Z",
     "shell.execute_reply": "2023-07-13T03:46:17.191848Z",
     "shell.execute_reply.started": "2023-07-13T03:46:12.320305Z"
    },
    "tags": []
   },
   "outputs": [
    {
     "data": {
      "text/html": [
       "<div>\n",
       "<style scoped>\n",
       "    .dataframe tbody tr th:only-of-type {\n",
       "        vertical-align: middle;\n",
       "    }\n",
       "\n",
       "    .dataframe tbody tr th {\n",
       "        vertical-align: top;\n",
       "    }\n",
       "\n",
       "    .dataframe thead th {\n",
       "        text-align: right;\n",
       "    }\n",
       "</style>\n",
       "<table border=\"1\" class=\"dataframe\">\n",
       "  <thead>\n",
       "    <tr style=\"text-align: right;\">\n",
       "      <th></th>\n",
       "      <th>instance_id</th>\n",
       "      <th>item_id</th>\n",
       "      <th>item_category_list</th>\n",
       "      <th>item_property_list</th>\n",
       "      <th>item_brand_id</th>\n",
       "      <th>item_city_id</th>\n",
       "      <th>item_price_level</th>\n",
       "      <th>item_sales_level</th>\n",
       "      <th>item_collected_level</th>\n",
       "      <th>item_pv_level</th>\n",
       "      <th>...</th>\n",
       "      <th>context_page_id</th>\n",
       "      <th>predict_category_property</th>\n",
       "      <th>shop_id</th>\n",
       "      <th>shop_review_num_level</th>\n",
       "      <th>shop_review_positive_rate</th>\n",
       "      <th>shop_star_level</th>\n",
       "      <th>shop_score_service</th>\n",
       "      <th>shop_score_delivery</th>\n",
       "      <th>shop_score_description</th>\n",
       "      <th>is_trade</th>\n",
       "    </tr>\n",
       "  </thead>\n",
       "  <tbody>\n",
       "    <tr>\n",
       "      <th>0</th>\n",
       "      <td>108641074714126964</td>\n",
       "      <td>3412720377098676069</td>\n",
       "      <td>7908382889764677758;5799347067982556520</td>\n",
       "      <td>2072967855524022579;5131280576272319091;263639...</td>\n",
       "      <td>1975590437749032870</td>\n",
       "      <td>3948283326616421003</td>\n",
       "      <td>3</td>\n",
       "      <td>3</td>\n",
       "      <td>4</td>\n",
       "      <td>14</td>\n",
       "      <td>...</td>\n",
       "      <td>4006</td>\n",
       "      <td>5799347067982556520:-1;509660095530134768:-1;5...</td>\n",
       "      <td>6765930309048922341</td>\n",
       "      <td>4</td>\n",
       "      <td>1.0</td>\n",
       "      <td>5002</td>\n",
       "      <td>1.0</td>\n",
       "      <td>1.0</td>\n",
       "      <td>1.0</td>\n",
       "      <td>0</td>\n",
       "    </tr>\n",
       "    <tr>\n",
       "      <th>1</th>\n",
       "      <td>5754713551599725161</td>\n",
       "      <td>3412720377098676069</td>\n",
       "      <td>7908382889764677758;5799347067982556520</td>\n",
       "      <td>2072967855524022579;5131280576272319091;263639...</td>\n",
       "      <td>1975590437749032870</td>\n",
       "      <td>3948283326616421003</td>\n",
       "      <td>3</td>\n",
       "      <td>3</td>\n",
       "      <td>4</td>\n",
       "      <td>14</td>\n",
       "      <td>...</td>\n",
       "      <td>4001</td>\n",
       "      <td>5799347067982556520:9172976955054793469;790838...</td>\n",
       "      <td>6765930309048922341</td>\n",
       "      <td>4</td>\n",
       "      <td>1.0</td>\n",
       "      <td>5002</td>\n",
       "      <td>1.0</td>\n",
       "      <td>1.0</td>\n",
       "      <td>1.0</td>\n",
       "      <td>0</td>\n",
       "    </tr>\n",
       "    <tr>\n",
       "      <th>2</th>\n",
       "      <td>842679481291040981</td>\n",
       "      <td>3412720377098676069</td>\n",
       "      <td>7908382889764677758;5799347067982556520</td>\n",
       "      <td>2072967855524022579;5131280576272319091;263639...</td>\n",
       "      <td>1975590437749032870</td>\n",
       "      <td>3948283326616421003</td>\n",
       "      <td>3</td>\n",
       "      <td>3</td>\n",
       "      <td>4</td>\n",
       "      <td>14</td>\n",
       "      <td>...</td>\n",
       "      <td>4001</td>\n",
       "      <td>5799347067982556520:5131280576272319091;725801...</td>\n",
       "      <td>6765930309048922341</td>\n",
       "      <td>4</td>\n",
       "      <td>1.0</td>\n",
       "      <td>5002</td>\n",
       "      <td>1.0</td>\n",
       "      <td>1.0</td>\n",
       "      <td>1.0</td>\n",
       "      <td>0</td>\n",
       "    </tr>\n",
       "    <tr>\n",
       "      <th>3</th>\n",
       "      <td>937088850059189027</td>\n",
       "      <td>3412720377098676069</td>\n",
       "      <td>7908382889764677758;5799347067982556520</td>\n",
       "      <td>2072967855524022579;5131280576272319091;263639...</td>\n",
       "      <td>1975590437749032870</td>\n",
       "      <td>3948283326616421003</td>\n",
       "      <td>3</td>\n",
       "      <td>3</td>\n",
       "      <td>4</td>\n",
       "      <td>14</td>\n",
       "      <td>...</td>\n",
       "      <td>4016</td>\n",
       "      <td>509660095530134768:-1;5799347067982556520:-1;7...</td>\n",
       "      <td>6765930309048922341</td>\n",
       "      <td>4</td>\n",
       "      <td>1.0</td>\n",
       "      <td>5002</td>\n",
       "      <td>1.0</td>\n",
       "      <td>1.0</td>\n",
       "      <td>1.0</td>\n",
       "      <td>0</td>\n",
       "    </tr>\n",
       "    <tr>\n",
       "      <th>4</th>\n",
       "      <td>7975697065017708072</td>\n",
       "      <td>3412720377098676069</td>\n",
       "      <td>7908382889764677758;5799347067982556520</td>\n",
       "      <td>2072967855524022579;5131280576272319091;263639...</td>\n",
       "      <td>1975590437749032870</td>\n",
       "      <td>3948283326616421003</td>\n",
       "      <td>3</td>\n",
       "      <td>3</td>\n",
       "      <td>4</td>\n",
       "      <td>14</td>\n",
       "      <td>...</td>\n",
       "      <td>4001</td>\n",
       "      <td>5799347067982556520:9172976955054793469;790838...</td>\n",
       "      <td>6765930309048922341</td>\n",
       "      <td>4</td>\n",
       "      <td>1.0</td>\n",
       "      <td>5002</td>\n",
       "      <td>1.0</td>\n",
       "      <td>1.0</td>\n",
       "      <td>1.0</td>\n",
       "      <td>0</td>\n",
       "    </tr>\n",
       "  </tbody>\n",
       "</table>\n",
       "<p>5 rows × 27 columns</p>\n",
       "</div>"
      ],
      "text/plain": [
       "           instance_id              item_id  \\\n",
       "0   108641074714126964  3412720377098676069   \n",
       "1  5754713551599725161  3412720377098676069   \n",
       "2   842679481291040981  3412720377098676069   \n",
       "3   937088850059189027  3412720377098676069   \n",
       "4  7975697065017708072  3412720377098676069   \n",
       "\n",
       "                        item_category_list  \\\n",
       "0  7908382889764677758;5799347067982556520   \n",
       "1  7908382889764677758;5799347067982556520   \n",
       "2  7908382889764677758;5799347067982556520   \n",
       "3  7908382889764677758;5799347067982556520   \n",
       "4  7908382889764677758;5799347067982556520   \n",
       "\n",
       "                                  item_property_list        item_brand_id  \\\n",
       "0  2072967855524022579;5131280576272319091;263639...  1975590437749032870   \n",
       "1  2072967855524022579;5131280576272319091;263639...  1975590437749032870   \n",
       "2  2072967855524022579;5131280576272319091;263639...  1975590437749032870   \n",
       "3  2072967855524022579;5131280576272319091;263639...  1975590437749032870   \n",
       "4  2072967855524022579;5131280576272319091;263639...  1975590437749032870   \n",
       "\n",
       "          item_city_id  item_price_level  item_sales_level  \\\n",
       "0  3948283326616421003                 3                 3   \n",
       "1  3948283326616421003                 3                 3   \n",
       "2  3948283326616421003                 3                 3   \n",
       "3  3948283326616421003                 3                 3   \n",
       "4  3948283326616421003                 3                 3   \n",
       "\n",
       "   item_collected_level  item_pv_level  ...  context_page_id  \\\n",
       "0                     4             14  ...             4006   \n",
       "1                     4             14  ...             4001   \n",
       "2                     4             14  ...             4001   \n",
       "3                     4             14  ...             4016   \n",
       "4                     4             14  ...             4001   \n",
       "\n",
       "                           predict_category_property              shop_id  \\\n",
       "0  5799347067982556520:-1;509660095530134768:-1;5...  6765930309048922341   \n",
       "1  5799347067982556520:9172976955054793469;790838...  6765930309048922341   \n",
       "2  5799347067982556520:5131280576272319091;725801...  6765930309048922341   \n",
       "3  509660095530134768:-1;5799347067982556520:-1;7...  6765930309048922341   \n",
       "4  5799347067982556520:9172976955054793469;790838...  6765930309048922341   \n",
       "\n",
       "   shop_review_num_level  shop_review_positive_rate  shop_star_level  \\\n",
       "0                      4                        1.0             5002   \n",
       "1                      4                        1.0             5002   \n",
       "2                      4                        1.0             5002   \n",
       "3                      4                        1.0             5002   \n",
       "4                      4                        1.0             5002   \n",
       "\n",
       "   shop_score_service  shop_score_delivery shop_score_description  is_trade  \n",
       "0                 1.0                  1.0                    1.0         0  \n",
       "1                 1.0                  1.0                    1.0         0  \n",
       "2                 1.0                  1.0                    1.0         0  \n",
       "3                 1.0                  1.0                    1.0         0  \n",
       "4                 1.0                  1.0                    1.0         0  \n",
       "\n",
       "[5 rows x 27 columns]"
      ]
     },
     "execution_count": 2,
     "metadata": {},
     "output_type": "execute_result"
    }
   ],
   "source": [
    "train = pd.read_csv(\"round1_ijcai_18_train_20180301.txt\", sep=\" \")\n",
    "train.head()"
   ]
  },
  {
   "cell_type": "code",
   "execution_count": 3,
   "id": "53695ce4-67e9-4464-ac7d-c123e0497795",
   "metadata": {
    "execution": {
     "iopub.execute_input": "2023-07-13T03:46:17.195578Z",
     "iopub.status.busy": "2023-07-13T03:46:17.195241Z",
     "iopub.status.idle": "2023-07-13T03:46:17.201772Z",
     "shell.execute_reply": "2023-07-13T03:46:17.200818Z",
     "shell.execute_reply.started": "2023-07-13T03:46:17.195551Z"
    },
    "tags": []
   },
   "outputs": [
    {
     "data": {
      "text/plain": [
       "Index(['instance_id', 'item_id', 'item_category_list', 'item_property_list',\n",
       "       'item_brand_id', 'item_city_id', 'item_price_level', 'item_sales_level',\n",
       "       'item_collected_level', 'item_pv_level', 'user_id', 'user_gender_id',\n",
       "       'user_age_level', 'user_occupation_id', 'user_star_level', 'context_id',\n",
       "       'context_timestamp', 'context_page_id', 'predict_category_property',\n",
       "       'shop_id', 'shop_review_num_level', 'shop_review_positive_rate',\n",
       "       'shop_star_level', 'shop_score_service', 'shop_score_delivery',\n",
       "       'shop_score_description', 'is_trade'],\n",
       "      dtype='object')"
      ]
     },
     "execution_count": 3,
     "metadata": {},
     "output_type": "execute_result"
    }
   ],
   "source": [
    "train.columns"
   ]
  },
  {
   "cell_type": "code",
   "execution_count": null,
   "id": "4660640c-f84d-477d-a8c5-3f07a8d0bbd3",
   "metadata": {},
   "outputs": [],
   "source": []
  },
  {
   "cell_type": "markdown",
   "id": "ce8d1f6a-9d09-435c-8323-52940c5d02a2",
   "metadata": {},
   "source": [
    "# data.py"
   ]
  },
  {
   "cell_type": "code",
   "execution_count": 4,
   "id": "ee63fafa-6b70-48ad-8e10-bd42b2ca28bf",
   "metadata": {
    "execution": {
     "iopub.execute_input": "2023-07-13T03:46:17.203590Z",
     "iopub.status.busy": "2023-07-13T03:46:17.202890Z",
     "iopub.status.idle": "2023-07-13T03:46:17.208129Z",
     "shell.execute_reply": "2023-07-13T03:46:17.207314Z",
     "shell.execute_reply.started": "2023-07-13T03:46:17.203563Z"
    },
    "tags": []
   },
   "outputs": [],
   "source": [
    "def today(x):\n",
    "    return time.strftime('%Y-%m-%d %H:%M:%S', time.localtime(x))"
   ]
  },
  {
   "cell_type": "code",
   "execution_count": 5,
   "id": "6dabef9c-e77a-4f30-88c1-f38b7445ef37",
   "metadata": {
    "execution": {
     "iopub.execute_input": "2023-07-13T03:46:17.209666Z",
     "iopub.status.busy": "2023-07-13T03:46:17.209112Z",
     "iopub.status.idle": "2023-07-13T03:46:17.214672Z",
     "shell.execute_reply": "2023-07-13T03:46:17.213518Z",
     "shell.execute_reply.started": "2023-07-13T03:46:17.209638Z"
    },
    "tags": []
   },
   "outputs": [],
   "source": [
    "def getday(x):\n",
    "    day=int(x.split(' ')[0].split('-')[-1])\n",
    "    if day==31:\n",
    "        day=0\n",
    "    return day"
   ]
  },
  {
   "cell_type": "code",
   "execution_count": 6,
   "id": "3d51c883-37b4-4e8e-b0ce-51e138082f47",
   "metadata": {
    "execution": {
     "iopub.execute_input": "2023-07-13T03:46:17.219357Z",
     "iopub.status.busy": "2023-07-13T03:46:17.217282Z",
     "iopub.status.idle": "2023-07-13T03:46:18.939144Z",
     "shell.execute_reply": "2023-07-13T03:46:18.938488Z",
     "shell.execute_reply.started": "2023-07-13T03:46:17.219304Z"
    },
    "tags": []
   },
   "outputs": [
    {
     "data": {
      "text/plain": [
       "0         18\n",
       "1         18\n",
       "2         18\n",
       "3         18\n",
       "4         18\n",
       "          ..\n",
       "478133    24\n",
       "478134    24\n",
       "478135    24\n",
       "478136    24\n",
       "478137    24\n",
       "Name: day, Length: 478138, dtype: int64"
      ]
     },
     "execution_count": 6,
     "metadata": {},
     "output_type": "execute_result"
    }
   ],
   "source": [
    "train[\"day\"] = train[\"context_timestamp\"].apply(lambda x: getday(today(x)))\n",
    "\n",
    "train[\"day\"]"
   ]
  },
  {
   "cell_type": "code",
   "execution_count": 7,
   "id": "46da8266-3fdd-4172-882d-3736c5d81a88",
   "metadata": {
    "execution": {
     "iopub.execute_input": "2023-07-13T03:46:18.940464Z",
     "iopub.status.busy": "2023-07-13T03:46:18.939999Z",
     "iopub.status.idle": "2023-07-13T03:46:20.512232Z",
     "shell.execute_reply": "2023-07-13T03:46:20.511604Z",
     "shell.execute_reply.started": "2023-07-13T03:46:18.940443Z"
    },
    "tags": []
   },
   "outputs": [
    {
     "data": {
      "text/plain": [
       "0         10\n",
       "1         12\n",
       "2          3\n",
       "3          6\n",
       "4         19\n",
       "          ..\n",
       "478133     7\n",
       "478134    23\n",
       "478135    20\n",
       "478136    18\n",
       "478137    19\n",
       "Name: hour, Length: 478138, dtype: int64"
      ]
     },
     "execution_count": 7,
     "metadata": {},
     "output_type": "execute_result"
    }
   ],
   "source": [
    "train[\"hour\"] = train[\"context_timestamp\"].apply(lambda x:int(today(x).split()[1].split(':')[0]))\n",
    "train[\"hour\"]"
   ]
  },
  {
   "cell_type": "code",
   "execution_count": 8,
   "id": "e9fa9e55-425f-4ec4-9072-697b6860dc48",
   "metadata": {
    "execution": {
     "iopub.execute_input": "2023-07-13T03:46:20.513557Z",
     "iopub.status.busy": "2023-07-13T03:46:20.513062Z",
     "iopub.status.idle": "2023-07-13T03:46:21.743151Z",
     "shell.execute_reply": "2023-07-13T03:46:21.742379Z",
     "shell.execute_reply.started": "2023-07-13T03:46:20.513536Z"
    },
    "tags": []
   },
   "outputs": [
    {
     "data": {
      "text/plain": [
       "0         2018-09-18 10:09:04\n",
       "1         2018-09-18 12:00:32\n",
       "2         2018-09-18 03:04:12\n",
       "3         2018-09-18 06:17:50\n",
       "4         2018-09-18 19:48:40\n",
       "                 ...         \n",
       "478133    2018-09-24 07:48:39\n",
       "478134    2018-09-24 23:03:35\n",
       "478135    2018-09-24 20:45:00\n",
       "478136    2018-09-24 18:08:49\n",
       "478137    2018-09-24 19:48:21\n",
       "Name: context_timestamp, Length: 478138, dtype: object"
      ]
     },
     "execution_count": 8,
     "metadata": {},
     "output_type": "execute_result"
    }
   ],
   "source": [
    "train[\"context_timestamp\"] = train[\"context_timestamp\"].apply(lambda x: today(x))\n",
    "train[\"context_timestamp\"]"
   ]
  },
  {
   "cell_type": "code",
   "execution_count": null,
   "id": "05332895-9e35-48e0-8350-85d15cbc176d",
   "metadata": {},
   "outputs": [],
   "source": []
  },
  {
   "cell_type": "code",
   "execution_count": 9,
   "id": "1637cf56-dd5b-4fda-89cf-8788f5adfd23",
   "metadata": {
    "execution": {
     "iopub.execute_input": "2023-07-13T03:46:21.748691Z",
     "iopub.status.busy": "2023-07-13T03:46:21.748334Z",
     "iopub.status.idle": "2023-07-13T03:46:21.753290Z",
     "shell.execute_reply": "2023-07-13T03:46:21.752484Z",
     "shell.execute_reply.started": "2023-07-13T03:46:21.748664Z"
    },
    "tags": []
   },
   "outputs": [],
   "source": [
    "def gethour(x):\n",
    "    hour=int(x.split(' ')[1].split(':')[0])\n",
    "    minute=int(x.split(' ')[1].split(':')[1])\n",
    "    minute=1 if minute>=30 else 0\n",
    "\n",
    "    return hour*2+minute"
   ]
  },
  {
   "cell_type": "code",
   "execution_count": 10,
   "id": "d86d45f1-83ed-4901-a682-589c01cc2cf4",
   "metadata": {
    "execution": {
     "iopub.execute_input": "2023-07-13T03:46:21.754753Z",
     "iopub.status.busy": "2023-07-13T03:46:21.754272Z",
     "iopub.status.idle": "2023-07-13T03:46:22.469067Z",
     "shell.execute_reply": "2023-07-13T03:46:22.468393Z",
     "shell.execute_reply.started": "2023-07-13T03:46:21.754727Z"
    },
    "tags": []
   },
   "outputs": [
    {
     "data": {
      "text/plain": [
       "0         20\n",
       "1         24\n",
       "2          6\n",
       "3         12\n",
       "4         39\n",
       "          ..\n",
       "478133    15\n",
       "478134    46\n",
       "478135    41\n",
       "478136    36\n",
       "478137    39\n",
       "Name: hour48, Length: 478138, dtype: int64"
      ]
     },
     "execution_count": 10,
     "metadata": {},
     "output_type": "execute_result"
    }
   ],
   "source": [
    "train[\"hour48\"] = train[\"context_timestamp\"].apply(gethour)\n",
    "train[\"hour48\"]"
   ]
  },
  {
   "cell_type": "code",
   "execution_count": null,
   "id": "d70536b9-7f7b-4cb8-b360-a404640c3d27",
   "metadata": {},
   "outputs": [],
   "source": []
  },
  {
   "cell_type": "code",
   "execution_count": 11,
   "id": "a9498f10-808e-47a8-8c78-f50903470dfd",
   "metadata": {
    "execution": {
     "iopub.execute_input": "2023-07-13T03:46:22.470700Z",
     "iopub.status.busy": "2023-07-13T03:46:22.470322Z",
     "iopub.status.idle": "2023-07-13T03:46:22.474947Z",
     "shell.execute_reply": "2023-07-13T03:46:22.474233Z",
     "shell.execute_reply.started": "2023-07-13T03:46:22.470675Z"
    },
    "tags": []
   },
   "outputs": [],
   "source": [
    "def same_cate(x):\n",
    "    cate = set(x['item_category_list'].split(';'))\n",
    "    cate2 = set([i.split(':')[0] for i in x['predict_category_property'].split(';')])\n",
    "    \n",
    "    return len(cate & cate2)"
   ]
  },
  {
   "cell_type": "code",
   "execution_count": 12,
   "id": "2eda1868-9276-4251-ba35-1c3a7907db25",
   "metadata": {
    "execution": {
     "iopub.execute_input": "2023-07-13T03:46:22.476350Z",
     "iopub.status.busy": "2023-07-13T03:46:22.475888Z",
     "iopub.status.idle": "2023-07-13T03:46:22.482112Z",
     "shell.execute_reply": "2023-07-13T03:46:22.481393Z",
     "shell.execute_reply.started": "2023-07-13T03:46:22.476327Z"
    },
    "tags": []
   },
   "outputs": [
    {
     "data": {
      "text/plain": [
       "0         7908382889764677758;5799347067982556520\n",
       "1         7908382889764677758;5799347067982556520\n",
       "2         7908382889764677758;5799347067982556520\n",
       "3         7908382889764677758;5799347067982556520\n",
       "4         7908382889764677758;5799347067982556520\n",
       "                           ...                   \n",
       "478133    7908382889764677758;5755694407684602296\n",
       "478134    7908382889764677758;5755694407684602296\n",
       "478135    7908382889764677758;5755694407684602296\n",
       "478136    7908382889764677758;5755694407684602296\n",
       "478137    7908382889764677758;5755694407684602296\n",
       "Name: item_category_list, Length: 478138, dtype: object"
      ]
     },
     "execution_count": 12,
     "metadata": {},
     "output_type": "execute_result"
    }
   ],
   "source": [
    "train[\"item_category_list\"]"
   ]
  },
  {
   "cell_type": "code",
   "execution_count": 13,
   "id": "4b8a7d6c-9e5a-4d2c-a4db-adae7b921073",
   "metadata": {
    "execution": {
     "iopub.execute_input": "2023-07-13T03:46:22.483664Z",
     "iopub.status.busy": "2023-07-13T03:46:22.483291Z",
     "iopub.status.idle": "2023-07-13T03:46:22.490213Z",
     "shell.execute_reply": "2023-07-13T03:46:22.489334Z",
     "shell.execute_reply.started": "2023-07-13T03:46:22.483637Z"
    },
    "tags": []
   },
   "outputs": [
    {
     "data": {
      "text/plain": [
       "0         5799347067982556520:-1;509660095530134768:-1;5...\n",
       "1         5799347067982556520:9172976955054793469;790838...\n",
       "2         5799347067982556520:5131280576272319091;725801...\n",
       "3         509660095530134768:-1;5799347067982556520:-1;7...\n",
       "4         5799347067982556520:9172976955054793469;790838...\n",
       "                                ...                        \n",
       "478133    8257512457089702259:8895425924056041189;227312...\n",
       "478134    5755694407684602296:-1;7908382889764677758:-1;...\n",
       "478135        5755694407684602296:-1;7908382889764677758:-1\n",
       "478136    8257512457089702259:-1;1760164811125093110:203...\n",
       "478137    5755694407684602296:-1;509660095530134768:-1;8...\n",
       "Name: predict_category_property, Length: 478138, dtype: object"
      ]
     },
     "execution_count": 13,
     "metadata": {},
     "output_type": "execute_result"
    }
   ],
   "source": [
    "train[\"predict_category_property\"]"
   ]
  },
  {
   "cell_type": "code",
   "execution_count": 14,
   "id": "2dcd893c-118f-4827-9d4c-444e9658eb07",
   "metadata": {
    "execution": {
     "iopub.execute_input": "2023-07-13T03:46:22.491702Z",
     "iopub.status.busy": "2023-07-13T03:46:22.491392Z",
     "iopub.status.idle": "2023-07-13T03:46:28.435455Z",
     "shell.execute_reply": "2023-07-13T03:46:28.434507Z",
     "shell.execute_reply.started": "2023-07-13T03:46:22.491679Z"
    },
    "tags": []
   },
   "outputs": [
    {
     "data": {
      "text/plain": [
       "0         2\n",
       "1         2\n",
       "2         2\n",
       "3         2\n",
       "4         2\n",
       "         ..\n",
       "478133    2\n",
       "478134    2\n",
       "478135    2\n",
       "478136    2\n",
       "478137    2\n",
       "Name: same_cate, Length: 478138, dtype: int64"
      ]
     },
     "execution_count": 14,
     "metadata": {},
     "output_type": "execute_result"
    }
   ],
   "source": [
    "train[\"same_cate\"] = train.apply(same_cate, axis=1)\n",
    "train[\"same_cate\"]"
   ]
  },
  {
   "cell_type": "code",
   "execution_count": null,
   "id": "537f57a6-4663-4115-a262-6ca1276e9184",
   "metadata": {},
   "outputs": [],
   "source": []
  },
  {
   "cell_type": "code",
   "execution_count": 15,
   "id": "13225598-742a-45dd-96d8-481a1d2fbc23",
   "metadata": {
    "execution": {
     "iopub.execute_input": "2023-07-13T03:46:28.436906Z",
     "iopub.status.busy": "2023-07-13T03:46:28.436523Z",
     "iopub.status.idle": "2023-07-13T03:46:28.441759Z",
     "shell.execute_reply": "2023-07-13T03:46:28.441007Z",
     "shell.execute_reply.started": "2023-07-13T03:46:28.436879Z"
    },
    "tags": []
   },
   "outputs": [],
   "source": [
    "def same_property(x):\n",
    "    property_a = set(x['item_property_list'].split(';'))\n",
    "    \n",
    "    a = []\n",
    "    for i in [i.split(':')[1].split(',') for i in x['predict_category_property'].split(';') if len(i.split(':')) > 1]:\n",
    "        a += i\n",
    "    \n",
    "    property_b = set(a)\n",
    "    \n",
    "    return len(property_a & property_b)"
   ]
  },
  {
   "cell_type": "code",
   "execution_count": 16,
   "id": "4ff6b64d-5045-4192-995a-1fa14a56826d",
   "metadata": {
    "execution": {
     "iopub.execute_input": "2023-07-13T03:46:28.443017Z",
     "iopub.status.busy": "2023-07-13T03:46:28.442688Z",
     "iopub.status.idle": "2023-07-13T03:46:37.421154Z",
     "shell.execute_reply": "2023-07-13T03:46:37.420389Z",
     "shell.execute_reply.started": "2023-07-13T03:46:28.442994Z"
    },
    "tags": []
   },
   "outputs": [
    {
     "data": {
      "text/plain": [
       "0         0\n",
       "1         1\n",
       "2         1\n",
       "3         0\n",
       "4         1\n",
       "         ..\n",
       "478133    2\n",
       "478134    1\n",
       "478135    0\n",
       "478136    0\n",
       "478137    0\n",
       "Name: same_property, Length: 478138, dtype: int64"
      ]
     },
     "execution_count": 16,
     "metadata": {},
     "output_type": "execute_result"
    }
   ],
   "source": [
    "train[\"same_property\"] = train.apply(same_property, axis=1)\n",
    "train[\"same_property\"]"
   ]
  },
  {
   "cell_type": "code",
   "execution_count": null,
   "id": "4d420900-bfe1-4c43-a361-7c748b27a8ba",
   "metadata": {},
   "outputs": [],
   "source": []
  },
  {
   "cell_type": "code",
   "execution_count": 17,
   "id": "5679fb82-f7a9-4c63-8588-3fdf4517f76a",
   "metadata": {
    "execution": {
     "iopub.execute_input": "2023-07-13T03:46:37.422683Z",
     "iopub.status.busy": "2023-07-13T03:46:37.422189Z",
     "iopub.status.idle": "2023-07-13T03:46:38.367783Z",
     "shell.execute_reply": "2023-07-13T03:46:38.367174Z",
     "shell.execute_reply.started": "2023-07-13T03:46:37.422655Z"
    },
    "tags": []
   },
   "outputs": [
    {
     "data": {
      "text/plain": [
       "0         22\n",
       "1         22\n",
       "2         22\n",
       "3         22\n",
       "4         22\n",
       "          ..\n",
       "478133    48\n",
       "478134    48\n",
       "478135    48\n",
       "478136    48\n",
       "478137    26\n",
       "Name: property_num, Length: 478138, dtype: int64"
      ]
     },
     "execution_count": 17,
     "metadata": {},
     "output_type": "execute_result"
    }
   ],
   "source": [
    "train[\"property_num\"] = train['item_property_list'].apply(lambda x:len(x.split(';')))\n",
    "train[\"property_num\"]"
   ]
  },
  {
   "cell_type": "code",
   "execution_count": null,
   "id": "74d5e6c7-e72d-41ec-a8e0-6137ab75eab8",
   "metadata": {},
   "outputs": [],
   "source": []
  },
  {
   "cell_type": "code",
   "execution_count": 18,
   "id": "819cdc2e-2224-42b2-bb4f-388441d69749",
   "metadata": {
    "execution": {
     "iopub.execute_input": "2023-07-13T03:46:38.369285Z",
     "iopub.status.busy": "2023-07-13T03:46:38.368779Z",
     "iopub.status.idle": "2023-07-13T03:46:38.705722Z",
     "shell.execute_reply": "2023-07-13T03:46:38.705138Z",
     "shell.execute_reply.started": "2023-07-13T03:46:38.369240Z"
    },
    "tags": []
   },
   "outputs": [
    {
     "data": {
      "text/plain": [
       "0         5\n",
       "1         2\n",
       "2         3\n",
       "3         5\n",
       "4         2\n",
       "         ..\n",
       "478133    6\n",
       "478134    4\n",
       "478135    2\n",
       "478136    7\n",
       "478137    4\n",
       "Name: pred_cate_num, Length: 478138, dtype: int64"
      ]
     },
     "execution_count": 18,
     "metadata": {},
     "output_type": "execute_result"
    }
   ],
   "source": [
    "train['pred_cate_num'] = train['predict_category_property'].apply(lambda x:len(x.split(';')))\n",
    "train[\"pred_cate_num\"]"
   ]
  },
  {
   "cell_type": "code",
   "execution_count": null,
   "id": "a8bc855f-8087-44ed-9d91-0de071cc9368",
   "metadata": {},
   "outputs": [],
   "source": []
  },
  {
   "cell_type": "code",
   "execution_count": 19,
   "id": "3fccdf06-5281-4c8a-8108-687bb358c2fb",
   "metadata": {
    "execution": {
     "iopub.execute_input": "2023-07-13T03:46:38.707033Z",
     "iopub.status.busy": "2023-07-13T03:46:38.706570Z",
     "iopub.status.idle": "2023-07-13T03:46:38.711352Z",
     "shell.execute_reply": "2023-07-13T03:46:38.710616Z",
     "shell.execute_reply.started": "2023-07-13T03:46:38.707010Z"
    },
    "tags": []
   },
   "outputs": [],
   "source": [
    "def f(x):\n",
    "    try:\n",
    "        return len([i for i in reduce((lambda x, y: x + y), [i.split(':')[1].split(',') for i in x.split(';') if len(i.split(':'))>1]) if i != '-1'])\n",
    "    except:\n",
    "        return 0"
   ]
  },
  {
   "cell_type": "code",
   "execution_count": 20,
   "id": "974df23d-d474-4353-8792-cad7b98d4cb8",
   "metadata": {
    "execution": {
     "iopub.execute_input": "2023-07-13T03:46:38.712746Z",
     "iopub.status.busy": "2023-07-13T03:46:38.712194Z",
     "iopub.status.idle": "2023-07-13T03:46:40.966214Z",
     "shell.execute_reply": "2023-07-13T03:46:40.965524Z",
     "shell.execute_reply.started": "2023-07-13T03:46:38.712724Z"
    },
    "tags": []
   },
   "outputs": [
    {
     "data": {
      "text/plain": [
       "0          1\n",
       "1          6\n",
       "2          3\n",
       "3         10\n",
       "4          2\n",
       "          ..\n",
       "478133     6\n",
       "478134    13\n",
       "478135     0\n",
       "478136     4\n",
       "478137     0\n",
       "Name: pred_prop_num, Length: 478138, dtype: int64"
      ]
     },
     "execution_count": 20,
     "metadata": {},
     "output_type": "execute_result"
    }
   ],
   "source": [
    "train['pred_prop_num'] = train['predict_category_property'].apply(f)\n",
    "train[\"pred_prop_num\"]"
   ]
  },
  {
   "cell_type": "code",
   "execution_count": null,
   "id": "9d38a893-704b-4b8a-841a-9c40444d9b27",
   "metadata": {},
   "outputs": [],
   "source": []
  },
  {
   "cell_type": "code",
   "execution_count": 21,
   "id": "9638b0ac-7af6-401c-b3df-e2c6a2f7c263",
   "metadata": {
    "execution": {
     "iopub.execute_input": "2023-07-13T03:46:40.967706Z",
     "iopub.status.busy": "2023-07-13T03:46:40.967180Z",
     "iopub.status.idle": "2023-07-13T03:46:41.354304Z",
     "shell.execute_reply": "2023-07-13T03:46:41.353458Z",
     "shell.execute_reply.started": "2023-07-13T03:46:40.967681Z"
    },
    "tags": []
   },
   "outputs": [
    {
     "data": {
      "text/plain": [
       "0         5799347067982556520\n",
       "1         5799347067982556520\n",
       "2         5799347067982556520\n",
       "3          509660095530134768\n",
       "4         5799347067982556520\n",
       "                 ...         \n",
       "478133    8257512457089702259\n",
       "478134    5755694407684602296\n",
       "478135    5755694407684602296\n",
       "478136    8257512457089702259\n",
       "478137    5755694407684602296\n",
       "Name: query1, Length: 478138, dtype: object"
      ]
     },
     "execution_count": 21,
     "metadata": {},
     "output_type": "execute_result"
    }
   ],
   "source": [
    "train['query1'] = train['predict_category_property'].apply(lambda x:x.split(';')[0].split(':')[0])\n",
    "train[\"query1\"]"
   ]
  },
  {
   "cell_type": "code",
   "execution_count": null,
   "id": "4fbef887-ec69-42e3-99e8-f535212a7d5e",
   "metadata": {},
   "outputs": [],
   "source": []
  },
  {
   "cell_type": "code",
   "execution_count": 22,
   "id": "1e4dc875-39c0-428f-a036-0f41ebd90744",
   "metadata": {
    "execution": {
     "iopub.execute_input": "2023-07-13T03:46:41.356302Z",
     "iopub.status.busy": "2023-07-13T03:46:41.355925Z",
     "iopub.status.idle": "2023-07-13T03:46:42.608772Z",
     "shell.execute_reply": "2023-07-13T03:46:42.607948Z",
     "shell.execute_reply.started": "2023-07-13T03:46:41.356274Z"
    },
    "tags": []
   },
   "outputs": [
    {
     "data": {
      "text/plain": [
       "0         509660095530134768-5755694407684602296-5799347...\n",
       "1                   5799347067982556520-7908382889764677758\n",
       "2         5799347067982556520-7258015885215914736-790838...\n",
       "3         1950314698730389427-509660095530134768-5799347...\n",
       "4                   5799347067982556520-7908382889764677758\n",
       "                                ...                        \n",
       "478133    22731265849056483-5755694407684602296-79083828...\n",
       "478134    1923130679917048904-2356297995131360540-575569...\n",
       "478135              5755694407684602296-7908382889764677758\n",
       "478136    1760164811125093110-5755694407684602296-790838...\n",
       "478137    509660095530134768-5755694407684602296-7908382...\n",
       "Name: query, Length: 478138, dtype: object"
      ]
     },
     "execution_count": 22,
     "metadata": {},
     "output_type": "execute_result"
    }
   ],
   "source": [
    "train['query'] = train['predict_category_property'].apply(lambda x:'-'.join(sorted([i.split(':')[0] for i in [i for i in x.split(';')]])))\n",
    "train[\"query\"]"
   ]
  },
  {
   "cell_type": "code",
   "execution_count": null,
   "id": "17e31042-23b0-470b-85b0-719a0546ea31",
   "metadata": {},
   "outputs": [],
   "source": []
  },
  {
   "cell_type": "code",
   "execution_count": 23,
   "id": "d38d536e-fd00-4b06-a654-73f714cbf314",
   "metadata": {
    "execution": {
     "iopub.execute_input": "2023-07-13T03:46:42.610216Z",
     "iopub.status.busy": "2023-07-13T03:46:42.609807Z",
     "iopub.status.idle": "2023-07-13T03:46:42.793634Z",
     "shell.execute_reply": "2023-07-13T03:46:42.792903Z",
     "shell.execute_reply.started": "2023-07-13T03:46:42.610189Z"
    },
    "tags": []
   },
   "outputs": [
    {
     "data": {
      "text/plain": [
       "0         5799347067982556520\n",
       "1         5799347067982556520\n",
       "2         5799347067982556520\n",
       "3         5799347067982556520\n",
       "4         5799347067982556520\n",
       "                 ...         \n",
       "478133    5755694407684602296\n",
       "478134    5755694407684602296\n",
       "478135    5755694407684602296\n",
       "478136    5755694407684602296\n",
       "478137    5755694407684602296\n",
       "Name: cate, Length: 478138, dtype: object"
      ]
     },
     "execution_count": 23,
     "metadata": {},
     "output_type": "execute_result"
    }
   ],
   "source": [
    "train['cate'] = train['item_category_list'].apply(lambda x: x.split(';')[1])\n",
    "train[\"cate\"]"
   ]
  },
  {
   "cell_type": "code",
   "execution_count": null,
   "id": "dd78ae7e-59dd-45c1-8e02-ceba079320f8",
   "metadata": {},
   "outputs": [],
   "source": []
  },
  {
   "cell_type": "code",
   "execution_count": 24,
   "id": "5548c923-77e5-4830-9646-e5b461e30d76",
   "metadata": {
    "execution": {
     "iopub.execute_input": "2023-07-13T03:46:42.795137Z",
     "iopub.status.busy": "2023-07-13T03:46:42.794793Z",
     "iopub.status.idle": "2023-07-13T03:46:42.803066Z",
     "shell.execute_reply": "2023-07-13T03:46:42.802288Z",
     "shell.execute_reply.started": "2023-07-13T03:46:42.795109Z"
    },
    "tags": []
   },
   "outputs": [],
   "source": [
    "def fillna(data):\n",
    "    numeric_feature = ['day', 'item_price_level', 'item_sales_level', 'item_collected_level', 'item_pv_level',\n",
    "                       'user_age_level', 'user_star_level', 'shop_review_num_level',\n",
    "                       'shop_review_positive_rate', 'shop_star_level', 'shop_score_service', 'shop_score_delivery',\n",
    "                       'shop_score_description', 'context_page_id'\n",
    "                       ]\n",
    "    string_feature = ['shop_id', 'item_id', 'user_id', 'item_brand_id', 'item_city_id', 'user_gender_id',\n",
    "                      'user_occupation_id', 'context_page_id', 'hour']\n",
    "    other_feature = ['item_property_list', 'predict_category_property']\n",
    "    \n",
    "    #填充缺失值\n",
    "    for i in string_feature+other_feature:\n",
    "        mode_num = data[i].mode()[0]\n",
    "        if (mode_num != -1):\n",
    "            print(i)\n",
    "            data.loc[data[i] == -1, i] = mode_num\n",
    "        else:\n",
    "            print(-1)\n",
    "    \n",
    "    for i in numeric_feature:\n",
    "        mean_num = data[i].mean()\n",
    "        if (mean_num != -1):\n",
    "            print(i)\n",
    "            data.loc[data[i] == -1, i] = mean_num\n",
    "        else:\n",
    "            print(-1)\n",
    "    \n",
    "    return data"
   ]
  },
  {
   "cell_type": "code",
   "execution_count": 25,
   "id": "081134c5-3ace-4ef0-9bd6-d740c1d1312f",
   "metadata": {
    "execution": {
     "iopub.execute_input": "2023-07-13T03:46:42.804494Z",
     "iopub.status.busy": "2023-07-13T03:46:42.804187Z",
     "iopub.status.idle": "2023-07-13T03:46:43.786015Z",
     "shell.execute_reply": "2023-07-13T03:46:43.784930Z",
     "shell.execute_reply.started": "2023-07-13T03:46:42.804471Z"
    },
    "tags": []
   },
   "outputs": [
    {
     "name": "stdout",
     "output_type": "stream",
     "text": [
      "shop_id\n",
      "item_id\n",
      "user_id\n",
      "item_brand_id\n",
      "item_city_id\n",
      "user_gender_id\n",
      "user_occupation_id\n",
      "context_page_id\n",
      "hour\n",
      "item_property_list\n",
      "predict_category_property\n",
      "day\n",
      "item_price_level\n",
      "item_sales_level\n",
      "item_collected_level\n",
      "item_pv_level\n",
      "user_age_level\n",
      "user_star_level\n",
      "shop_review_num_level\n",
      "shop_review_positive_rate\n",
      "shop_star_level\n",
      "shop_score_service\n",
      "shop_score_delivery\n",
      "shop_score_description\n",
      "context_page_id\n"
     ]
    }
   ],
   "source": [
    "train = fillna(train.copy())"
   ]
  },
  {
   "cell_type": "code",
   "execution_count": null,
   "id": "7be90e5e-2132-459f-9f43-085360f8b556",
   "metadata": {},
   "outputs": [],
   "source": []
  },
  {
   "cell_type": "code",
   "execution_count": 26,
   "id": "8c6f8c61-c7e1-4258-b5d7-84460a29b0bf",
   "metadata": {
    "execution": {
     "iopub.execute_input": "2023-07-13T03:46:43.787994Z",
     "iopub.status.busy": "2023-07-13T03:46:43.787603Z",
     "iopub.status.idle": "2023-07-13T03:46:43.801095Z",
     "shell.execute_reply": "2023-07-13T03:46:43.800044Z",
     "shell.execute_reply.started": "2023-07-13T03:46:43.787963Z"
    },
    "tags": []
   },
   "outputs": [],
   "source": [
    "\"\"\"\n",
    "统计属性出现的次数，取top1的属性作为特征，top1-5合并作为特征\n",
    "预测的属性，top1,合并top1-5\n",
    "\"\"\"\n",
    "def property_feature(org):\n",
    "    tmp=org['item_property_list'].apply(lambda x:x.split(';')).values\n",
    "    property_dict={}\n",
    "    property_list=[]\n",
    "    \n",
    "    for i in tmp:\n",
    "        property_list+=i\n",
    "    \n",
    "    for i in property_list:\n",
    "        if i in property_dict:\n",
    "            property_dict[i] += 1\n",
    "        else:\n",
    "            property_dict[i] = 1\n",
    "    \n",
    "    print('dict finish')\n",
    "    \n",
    "    def top(x):\n",
    "        properties=x.split(';')\n",
    "        cnt=[property_dict[i] for i in properties]\n",
    "        res=sorted(zip(properties,cnt),key=lambda x:x[1],reverse=True)\n",
    "        top1=res[0][0]\n",
    "        top2 = '_'.join([i[0] for i in res[:2]])\n",
    "        top3 = '_'.join([i[0] for i in res[:3]])\n",
    "        top4 = '_'.join([i[0] for i in res[:4]])\n",
    "        top5='_'.join([i[0] for i in res[:5]])\n",
    "        top10 = '_'.join([i[0] for i in res[:10]])\n",
    "        return (top1,top2,top3,top4,top5,top10)\n",
    "    \n",
    "    org['top']=org['item_property_list'].apply(top)\n",
    "    print('top finish')\n",
    "    \n",
    "    org['top1']=org['top'].apply(lambda x:x[0])\n",
    "    org['top2'] = org['top'].apply(lambda x: x[1])\n",
    "    org['top3'] = org['top'].apply(lambda x: x[2])\n",
    "    org['top4'] = org['top'].apply(lambda x: x[3])\n",
    "    org['top5'] = org['top'].apply(lambda x: x[4])\n",
    "    org['top10'] = org['top'].apply(lambda x: x[5])\n",
    "    \n",
    "    return org[['instance_id','top1','top2','top3','top4','top5','top10']]"
   ]
  },
  {
   "cell_type": "code",
   "execution_count": 27,
   "id": "ef3cdbba-ccef-4cc1-9c01-a4dd582feceb",
   "metadata": {
    "execution": {
     "iopub.execute_input": "2023-07-13T03:46:43.809243Z",
     "iopub.status.busy": "2023-07-13T03:46:43.808570Z",
     "iopub.status.idle": "2023-07-13T03:46:57.691047Z",
     "shell.execute_reply": "2023-07-13T03:46:57.690244Z",
     "shell.execute_reply.started": "2023-07-13T03:46:43.809214Z"
    },
    "tags": []
   },
   "outputs": [
    {
     "name": "stdout",
     "output_type": "stream",
     "text": [
      "dict finish\n",
      "top finish\n"
     ]
    },
    {
     "data": {
      "text/html": [
       "<div>\n",
       "<style scoped>\n",
       "    .dataframe tbody tr th:only-of-type {\n",
       "        vertical-align: middle;\n",
       "    }\n",
       "\n",
       "    .dataframe tbody tr th {\n",
       "        vertical-align: top;\n",
       "    }\n",
       "\n",
       "    .dataframe thead th {\n",
       "        text-align: right;\n",
       "    }\n",
       "</style>\n",
       "<table border=\"1\" class=\"dataframe\">\n",
       "  <thead>\n",
       "    <tr style=\"text-align: right;\">\n",
       "      <th></th>\n",
       "      <th>instance_id</th>\n",
       "      <th>top1</th>\n",
       "      <th>top2</th>\n",
       "      <th>top3</th>\n",
       "      <th>top4</th>\n",
       "      <th>top5</th>\n",
       "      <th>top10</th>\n",
       "    </tr>\n",
       "  </thead>\n",
       "  <tbody>\n",
       "    <tr>\n",
       "      <th>0</th>\n",
       "      <td>108641074714126964</td>\n",
       "      <td>2636395404473730413</td>\n",
       "      <td>2636395404473730413_5131280576272319091</td>\n",
       "      <td>2636395404473730413_5131280576272319091_178243...</td>\n",
       "      <td>2636395404473730413_5131280576272319091_178243...</td>\n",
       "      <td>2636395404473730413_5131280576272319091_178243...</td>\n",
       "      <td>2636395404473730413_5131280576272319091_178243...</td>\n",
       "    </tr>\n",
       "    <tr>\n",
       "      <th>1</th>\n",
       "      <td>5754713551599725161</td>\n",
       "      <td>2636395404473730413</td>\n",
       "      <td>2636395404473730413_5131280576272319091</td>\n",
       "      <td>2636395404473730413_5131280576272319091_178243...</td>\n",
       "      <td>2636395404473730413_5131280576272319091_178243...</td>\n",
       "      <td>2636395404473730413_5131280576272319091_178243...</td>\n",
       "      <td>2636395404473730413_5131280576272319091_178243...</td>\n",
       "    </tr>\n",
       "    <tr>\n",
       "      <th>2</th>\n",
       "      <td>842679481291040981</td>\n",
       "      <td>2636395404473730413</td>\n",
       "      <td>2636395404473730413_5131280576272319091</td>\n",
       "      <td>2636395404473730413_5131280576272319091_178243...</td>\n",
       "      <td>2636395404473730413_5131280576272319091_178243...</td>\n",
       "      <td>2636395404473730413_5131280576272319091_178243...</td>\n",
       "      <td>2636395404473730413_5131280576272319091_178243...</td>\n",
       "    </tr>\n",
       "    <tr>\n",
       "      <th>3</th>\n",
       "      <td>937088850059189027</td>\n",
       "      <td>2636395404473730413</td>\n",
       "      <td>2636395404473730413_5131280576272319091</td>\n",
       "      <td>2636395404473730413_5131280576272319091_178243...</td>\n",
       "      <td>2636395404473730413_5131280576272319091_178243...</td>\n",
       "      <td>2636395404473730413_5131280576272319091_178243...</td>\n",
       "      <td>2636395404473730413_5131280576272319091_178243...</td>\n",
       "    </tr>\n",
       "    <tr>\n",
       "      <th>4</th>\n",
       "      <td>7975697065017708072</td>\n",
       "      <td>2636395404473730413</td>\n",
       "      <td>2636395404473730413_5131280576272319091</td>\n",
       "      <td>2636395404473730413_5131280576272319091_178243...</td>\n",
       "      <td>2636395404473730413_5131280576272319091_178243...</td>\n",
       "      <td>2636395404473730413_5131280576272319091_178243...</td>\n",
       "      <td>2636395404473730413_5131280576272319091_178243...</td>\n",
       "    </tr>\n",
       "    <tr>\n",
       "      <th>...</th>\n",
       "      <td>...</td>\n",
       "      <td>...</td>\n",
       "      <td>...</td>\n",
       "      <td>...</td>\n",
       "      <td>...</td>\n",
       "      <td>...</td>\n",
       "      <td>...</td>\n",
       "    </tr>\n",
       "    <tr>\n",
       "      <th>478133</th>\n",
       "      <td>5940763769799191887</td>\n",
       "      <td>2636395404473730413</td>\n",
       "      <td>2636395404473730413_5131280576272319091</td>\n",
       "      <td>2636395404473730413_5131280576272319091_124376...</td>\n",
       "      <td>2636395404473730413_5131280576272319091_124376...</td>\n",
       "      <td>2636395404473730413_5131280576272319091_124376...</td>\n",
       "      <td>2636395404473730413_5131280576272319091_124376...</td>\n",
       "    </tr>\n",
       "    <tr>\n",
       "      <th>478134</th>\n",
       "      <td>3387284546470665526</td>\n",
       "      <td>2636395404473730413</td>\n",
       "      <td>2636395404473730413_5131280576272319091</td>\n",
       "      <td>2636395404473730413_5131280576272319091_124376...</td>\n",
       "      <td>2636395404473730413_5131280576272319091_124376...</td>\n",
       "      <td>2636395404473730413_5131280576272319091_124376...</td>\n",
       "      <td>2636395404473730413_5131280576272319091_124376...</td>\n",
       "    </tr>\n",
       "    <tr>\n",
       "      <th>478135</th>\n",
       "      <td>5693770660150212848</td>\n",
       "      <td>2636395404473730413</td>\n",
       "      <td>2636395404473730413_5131280576272319091</td>\n",
       "      <td>2636395404473730413_5131280576272319091_124376...</td>\n",
       "      <td>2636395404473730413_5131280576272319091_124376...</td>\n",
       "      <td>2636395404473730413_5131280576272319091_124376...</td>\n",
       "      <td>2636395404473730413_5131280576272319091_124376...</td>\n",
       "    </tr>\n",
       "    <tr>\n",
       "      <th>478136</th>\n",
       "      <td>4623253188146764341</td>\n",
       "      <td>2636395404473730413</td>\n",
       "      <td>2636395404473730413_5131280576272319091</td>\n",
       "      <td>2636395404473730413_5131280576272319091_124376...</td>\n",
       "      <td>2636395404473730413_5131280576272319091_124376...</td>\n",
       "      <td>2636395404473730413_5131280576272319091_124376...</td>\n",
       "      <td>2636395404473730413_5131280576272319091_124376...</td>\n",
       "    </tr>\n",
       "    <tr>\n",
       "      <th>478137</th>\n",
       "      <td>8013124750038806831</td>\n",
       "      <td>2636395404473730413</td>\n",
       "      <td>2636395404473730413_5131280576272319091</td>\n",
       "      <td>2636395404473730413_5131280576272319091_851197...</td>\n",
       "      <td>2636395404473730413_5131280576272319091_851197...</td>\n",
       "      <td>2636395404473730413_5131280576272319091_851197...</td>\n",
       "      <td>2636395404473730413_5131280576272319091_851197...</td>\n",
       "    </tr>\n",
       "  </tbody>\n",
       "</table>\n",
       "<p>478138 rows × 7 columns</p>\n",
       "</div>"
      ],
      "text/plain": [
       "                instance_id                 top1  \\\n",
       "0        108641074714126964  2636395404473730413   \n",
       "1       5754713551599725161  2636395404473730413   \n",
       "2        842679481291040981  2636395404473730413   \n",
       "3        937088850059189027  2636395404473730413   \n",
       "4       7975697065017708072  2636395404473730413   \n",
       "...                     ...                  ...   \n",
       "478133  5940763769799191887  2636395404473730413   \n",
       "478134  3387284546470665526  2636395404473730413   \n",
       "478135  5693770660150212848  2636395404473730413   \n",
       "478136  4623253188146764341  2636395404473730413   \n",
       "478137  8013124750038806831  2636395404473730413   \n",
       "\n",
       "                                           top2  \\\n",
       "0       2636395404473730413_5131280576272319091   \n",
       "1       2636395404473730413_5131280576272319091   \n",
       "2       2636395404473730413_5131280576272319091   \n",
       "3       2636395404473730413_5131280576272319091   \n",
       "4       2636395404473730413_5131280576272319091   \n",
       "...                                         ...   \n",
       "478133  2636395404473730413_5131280576272319091   \n",
       "478134  2636395404473730413_5131280576272319091   \n",
       "478135  2636395404473730413_5131280576272319091   \n",
       "478136  2636395404473730413_5131280576272319091   \n",
       "478137  2636395404473730413_5131280576272319091   \n",
       "\n",
       "                                                     top3  \\\n",
       "0       2636395404473730413_5131280576272319091_178243...   \n",
       "1       2636395404473730413_5131280576272319091_178243...   \n",
       "2       2636395404473730413_5131280576272319091_178243...   \n",
       "3       2636395404473730413_5131280576272319091_178243...   \n",
       "4       2636395404473730413_5131280576272319091_178243...   \n",
       "...                                                   ...   \n",
       "478133  2636395404473730413_5131280576272319091_124376...   \n",
       "478134  2636395404473730413_5131280576272319091_124376...   \n",
       "478135  2636395404473730413_5131280576272319091_124376...   \n",
       "478136  2636395404473730413_5131280576272319091_124376...   \n",
       "478137  2636395404473730413_5131280576272319091_851197...   \n",
       "\n",
       "                                                     top4  \\\n",
       "0       2636395404473730413_5131280576272319091_178243...   \n",
       "1       2636395404473730413_5131280576272319091_178243...   \n",
       "2       2636395404473730413_5131280576272319091_178243...   \n",
       "3       2636395404473730413_5131280576272319091_178243...   \n",
       "4       2636395404473730413_5131280576272319091_178243...   \n",
       "...                                                   ...   \n",
       "478133  2636395404473730413_5131280576272319091_124376...   \n",
       "478134  2636395404473730413_5131280576272319091_124376...   \n",
       "478135  2636395404473730413_5131280576272319091_124376...   \n",
       "478136  2636395404473730413_5131280576272319091_124376...   \n",
       "478137  2636395404473730413_5131280576272319091_851197...   \n",
       "\n",
       "                                                     top5  \\\n",
       "0       2636395404473730413_5131280576272319091_178243...   \n",
       "1       2636395404473730413_5131280576272319091_178243...   \n",
       "2       2636395404473730413_5131280576272319091_178243...   \n",
       "3       2636395404473730413_5131280576272319091_178243...   \n",
       "4       2636395404473730413_5131280576272319091_178243...   \n",
       "...                                                   ...   \n",
       "478133  2636395404473730413_5131280576272319091_124376...   \n",
       "478134  2636395404473730413_5131280576272319091_124376...   \n",
       "478135  2636395404473730413_5131280576272319091_124376...   \n",
       "478136  2636395404473730413_5131280576272319091_124376...   \n",
       "478137  2636395404473730413_5131280576272319091_851197...   \n",
       "\n",
       "                                                    top10  \n",
       "0       2636395404473730413_5131280576272319091_178243...  \n",
       "1       2636395404473730413_5131280576272319091_178243...  \n",
       "2       2636395404473730413_5131280576272319091_178243...  \n",
       "3       2636395404473730413_5131280576272319091_178243...  \n",
       "4       2636395404473730413_5131280576272319091_178243...  \n",
       "...                                                   ...  \n",
       "478133  2636395404473730413_5131280576272319091_124376...  \n",
       "478134  2636395404473730413_5131280576272319091_124376...  \n",
       "478135  2636395404473730413_5131280576272319091_124376...  \n",
       "478136  2636395404473730413_5131280576272319091_124376...  \n",
       "478137  2636395404473730413_5131280576272319091_851197...  \n",
       "\n",
       "[478138 rows x 7 columns]"
      ]
     },
     "execution_count": 27,
     "metadata": {},
     "output_type": "execute_result"
    }
   ],
   "source": [
    "property_feature(train)"
   ]
  },
  {
   "cell_type": "code",
   "execution_count": null,
   "id": "b8907224-3642-4636-b190-904cb809e8ce",
   "metadata": {},
   "outputs": [],
   "source": []
  },
  {
   "cell_type": "code",
   "execution_count": 32,
   "id": "684be7e7-46d3-4563-bacc-02c4c62948ec",
   "metadata": {
    "execution": {
     "iopub.execute_input": "2023-07-13T03:48:17.971535Z",
     "iopub.status.busy": "2023-07-13T03:48:17.970841Z",
     "iopub.status.idle": "2023-07-13T03:48:17.976809Z",
     "shell.execute_reply": "2023-07-13T03:48:17.975914Z",
     "shell.execute_reply.started": "2023-07-13T03:48:17.971503Z"
    },
    "tags": []
   },
   "outputs": [],
   "source": [
    "def encode(data):\n",
    "    id_features=['shop_id', 'item_id', 'user_id', 'item_brand_id', 'item_city_id', 'user_gender_id','item_property_list', 'predict_category_property',\n",
    "                      'user_occupation_id', 'context_page_id','top1','top2','top3','top4','top5','top10','query1','query','cate']\n",
    "    \n",
    "    for feature in id_features:\n",
    "        data[feature] = LabelEncoder().fit_transform(data[feature])\n",
    "    \n",
    "    return data"
   ]
  },
  {
   "cell_type": "code",
   "execution_count": 33,
   "id": "ec8787c7-8ffa-4a42-bb5a-7dc47f54a638",
   "metadata": {
    "execution": {
     "iopub.execute_input": "2023-07-13T03:48:20.675957Z",
     "iopub.status.busy": "2023-07-13T03:48:20.675587Z",
     "iopub.status.idle": "2023-07-13T03:48:23.711059Z",
     "shell.execute_reply": "2023-07-13T03:48:23.710250Z",
     "shell.execute_reply.started": "2023-07-13T03:48:20.675928Z"
    },
    "tags": []
   },
   "outputs": [
    {
     "data": {
      "text/html": [
       "<div>\n",
       "<style scoped>\n",
       "    .dataframe tbody tr th:only-of-type {\n",
       "        vertical-align: middle;\n",
       "    }\n",
       "\n",
       "    .dataframe tbody tr th {\n",
       "        vertical-align: top;\n",
       "    }\n",
       "\n",
       "    .dataframe thead th {\n",
       "        text-align: right;\n",
       "    }\n",
       "</style>\n",
       "<table border=\"1\" class=\"dataframe\">\n",
       "  <thead>\n",
       "    <tr style=\"text-align: right;\">\n",
       "      <th></th>\n",
       "      <th>instance_id</th>\n",
       "      <th>item_id</th>\n",
       "      <th>item_category_list</th>\n",
       "      <th>item_property_list</th>\n",
       "      <th>item_brand_id</th>\n",
       "      <th>item_city_id</th>\n",
       "      <th>item_price_level</th>\n",
       "      <th>item_sales_level</th>\n",
       "      <th>item_collected_level</th>\n",
       "      <th>item_pv_level</th>\n",
       "      <th>...</th>\n",
       "      <th>query1</th>\n",
       "      <th>query</th>\n",
       "      <th>cate</th>\n",
       "      <th>top</th>\n",
       "      <th>top1</th>\n",
       "      <th>top2</th>\n",
       "      <th>top3</th>\n",
       "      <th>top4</th>\n",
       "      <th>top5</th>\n",
       "      <th>top10</th>\n",
       "    </tr>\n",
       "  </thead>\n",
       "  <tbody>\n",
       "    <tr>\n",
       "      <th>0</th>\n",
       "      <td>108641074714126964</td>\n",
       "      <td>3760</td>\n",
       "      <td>7908382889764677758;5799347067982556520</td>\n",
       "      <td>2260</td>\n",
       "      <td>447</td>\n",
       "      <td>49</td>\n",
       "      <td>3.0</td>\n",
       "      <td>3.0</td>\n",
       "      <td>4.0</td>\n",
       "      <td>14.0</td>\n",
       "      <td>...</td>\n",
       "      <td>152</td>\n",
       "      <td>9325</td>\n",
       "      <td>9</td>\n",
       "      <td>(2636395404473730413, 2636395404473730413_5131...</td>\n",
       "      <td>2</td>\n",
       "      <td>20</td>\n",
       "      <td>117</td>\n",
       "      <td>281</td>\n",
       "      <td>450</td>\n",
       "      <td>741</td>\n",
       "    </tr>\n",
       "    <tr>\n",
       "      <th>1</th>\n",
       "      <td>5754713551599725161</td>\n",
       "      <td>3760</td>\n",
       "      <td>7908382889764677758;5799347067982556520</td>\n",
       "      <td>2260</td>\n",
       "      <td>447</td>\n",
       "      <td>49</td>\n",
       "      <td>3.0</td>\n",
       "      <td>3.0</td>\n",
       "      <td>4.0</td>\n",
       "      <td>14.0</td>\n",
       "      <td>...</td>\n",
       "      <td>152</td>\n",
       "      <td>10370</td>\n",
       "      <td>9</td>\n",
       "      <td>(2636395404473730413, 2636395404473730413_5131...</td>\n",
       "      <td>2</td>\n",
       "      <td>20</td>\n",
       "      <td>117</td>\n",
       "      <td>281</td>\n",
       "      <td>450</td>\n",
       "      <td>741</td>\n",
       "    </tr>\n",
       "    <tr>\n",
       "      <th>2</th>\n",
       "      <td>842679481291040981</td>\n",
       "      <td>3760</td>\n",
       "      <td>7908382889764677758;5799347067982556520</td>\n",
       "      <td>2260</td>\n",
       "      <td>447</td>\n",
       "      <td>49</td>\n",
       "      <td>3.0</td>\n",
       "      <td>3.0</td>\n",
       "      <td>4.0</td>\n",
       "      <td>14.0</td>\n",
       "      <td>...</td>\n",
       "      <td>152</td>\n",
       "      <td>10333</td>\n",
       "      <td>9</td>\n",
       "      <td>(2636395404473730413, 2636395404473730413_5131...</td>\n",
       "      <td>2</td>\n",
       "      <td>20</td>\n",
       "      <td>117</td>\n",
       "      <td>281</td>\n",
       "      <td>450</td>\n",
       "      <td>741</td>\n",
       "    </tr>\n",
       "    <tr>\n",
       "      <th>3</th>\n",
       "      <td>937088850059189027</td>\n",
       "      <td>3760</td>\n",
       "      <td>7908382889764677758;5799347067982556520</td>\n",
       "      <td>2260</td>\n",
       "      <td>447</td>\n",
       "      <td>49</td>\n",
       "      <td>3.0</td>\n",
       "      <td>3.0</td>\n",
       "      <td>4.0</td>\n",
       "      <td>14.0</td>\n",
       "      <td>...</td>\n",
       "      <td>128</td>\n",
       "      <td>3677</td>\n",
       "      <td>9</td>\n",
       "      <td>(2636395404473730413, 2636395404473730413_5131...</td>\n",
       "      <td>2</td>\n",
       "      <td>20</td>\n",
       "      <td>117</td>\n",
       "      <td>281</td>\n",
       "      <td>450</td>\n",
       "      <td>741</td>\n",
       "    </tr>\n",
       "    <tr>\n",
       "      <th>4</th>\n",
       "      <td>7975697065017708072</td>\n",
       "      <td>3760</td>\n",
       "      <td>7908382889764677758;5799347067982556520</td>\n",
       "      <td>2260</td>\n",
       "      <td>447</td>\n",
       "      <td>49</td>\n",
       "      <td>3.0</td>\n",
       "      <td>3.0</td>\n",
       "      <td>4.0</td>\n",
       "      <td>14.0</td>\n",
       "      <td>...</td>\n",
       "      <td>152</td>\n",
       "      <td>10370</td>\n",
       "      <td>9</td>\n",
       "      <td>(2636395404473730413, 2636395404473730413_5131...</td>\n",
       "      <td>2</td>\n",
       "      <td>20</td>\n",
       "      <td>117</td>\n",
       "      <td>281</td>\n",
       "      <td>450</td>\n",
       "      <td>741</td>\n",
       "    </tr>\n",
       "    <tr>\n",
       "      <th>...</th>\n",
       "      <td>...</td>\n",
       "      <td>...</td>\n",
       "      <td>...</td>\n",
       "      <td>...</td>\n",
       "      <td>...</td>\n",
       "      <td>...</td>\n",
       "      <td>...</td>\n",
       "      <td>...</td>\n",
       "      <td>...</td>\n",
       "      <td>...</td>\n",
       "      <td>...</td>\n",
       "      <td>...</td>\n",
       "      <td>...</td>\n",
       "      <td>...</td>\n",
       "      <td>...</td>\n",
       "      <td>...</td>\n",
       "      <td>...</td>\n",
       "      <td>...</td>\n",
       "      <td>...</td>\n",
       "      <td>...</td>\n",
       "      <td>...</td>\n",
       "    </tr>\n",
       "    <tr>\n",
       "      <th>478133</th>\n",
       "      <td>5940763769799191887</td>\n",
       "      <td>5531</td>\n",
       "      <td>7908382889764677758;5755694407684602296</td>\n",
       "      <td>5624</td>\n",
       "      <td>583</td>\n",
       "      <td>49</td>\n",
       "      <td>8.0</td>\n",
       "      <td>10.0</td>\n",
       "      <td>13.0</td>\n",
       "      <td>14.0</td>\n",
       "      <td>...</td>\n",
       "      <td>242</td>\n",
       "      <td>5887</td>\n",
       "      <td>8</td>\n",
       "      <td>(2636395404473730413, 2636395404473730413_5131...</td>\n",
       "      <td>2</td>\n",
       "      <td>20</td>\n",
       "      <td>114</td>\n",
       "      <td>275</td>\n",
       "      <td>430</td>\n",
       "      <td>687</td>\n",
       "    </tr>\n",
       "    <tr>\n",
       "      <th>478134</th>\n",
       "      <td>3387284546470665526</td>\n",
       "      <td>5531</td>\n",
       "      <td>7908382889764677758;5755694407684602296</td>\n",
       "      <td>5624</td>\n",
       "      <td>583</td>\n",
       "      <td>49</td>\n",
       "      <td>8.0</td>\n",
       "      <td>10.0</td>\n",
       "      <td>13.0</td>\n",
       "      <td>14.0</td>\n",
       "      <td>...</td>\n",
       "      <td>150</td>\n",
       "      <td>2798</td>\n",
       "      <td>8</td>\n",
       "      <td>(2636395404473730413, 2636395404473730413_5131...</td>\n",
       "      <td>2</td>\n",
       "      <td>20</td>\n",
       "      <td>114</td>\n",
       "      <td>275</td>\n",
       "      <td>430</td>\n",
       "      <td>687</td>\n",
       "    </tr>\n",
       "    <tr>\n",
       "      <th>478135</th>\n",
       "      <td>5693770660150212848</td>\n",
       "      <td>5531</td>\n",
       "      <td>7908382889764677758;5755694407684602296</td>\n",
       "      <td>5624</td>\n",
       "      <td>583</td>\n",
       "      <td>49</td>\n",
       "      <td>8.0</td>\n",
       "      <td>10.0</td>\n",
       "      <td>13.0</td>\n",
       "      <td>14.0</td>\n",
       "      <td>...</td>\n",
       "      <td>150</td>\n",
       "      <td>10179</td>\n",
       "      <td>8</td>\n",
       "      <td>(2636395404473730413, 2636395404473730413_5131...</td>\n",
       "      <td>2</td>\n",
       "      <td>20</td>\n",
       "      <td>114</td>\n",
       "      <td>275</td>\n",
       "      <td>430</td>\n",
       "      <td>687</td>\n",
       "    </tr>\n",
       "    <tr>\n",
       "      <th>478136</th>\n",
       "      <td>4623253188146764341</td>\n",
       "      <td>5531</td>\n",
       "      <td>7908382889764677758;5755694407684602296</td>\n",
       "      <td>5624</td>\n",
       "      <td>583</td>\n",
       "      <td>49</td>\n",
       "      <td>8.0</td>\n",
       "      <td>10.0</td>\n",
       "      <td>13.0</td>\n",
       "      <td>14.0</td>\n",
       "      <td>...</td>\n",
       "      <td>242</td>\n",
       "      <td>2120</td>\n",
       "      <td>8</td>\n",
       "      <td>(2636395404473730413, 2636395404473730413_5131...</td>\n",
       "      <td>2</td>\n",
       "      <td>20</td>\n",
       "      <td>114</td>\n",
       "      <td>275</td>\n",
       "      <td>430</td>\n",
       "      <td>687</td>\n",
       "    </tr>\n",
       "    <tr>\n",
       "      <th>478137</th>\n",
       "      <td>8013124750038806831</td>\n",
       "      <td>4154</td>\n",
       "      <td>7908382889764677758;5755694407684602296</td>\n",
       "      <td>7582</td>\n",
       "      <td>1459</td>\n",
       "      <td>98</td>\n",
       "      <td>7.0</td>\n",
       "      <td>3.0</td>\n",
       "      <td>4.0</td>\n",
       "      <td>11.0</td>\n",
       "      <td>...</td>\n",
       "      <td>150</td>\n",
       "      <td>9518</td>\n",
       "      <td>8</td>\n",
       "      <td>(2636395404473730413, 2636395404473730413_5131...</td>\n",
       "      <td>2</td>\n",
       "      <td>20</td>\n",
       "      <td>145</td>\n",
       "      <td>441</td>\n",
       "      <td>905</td>\n",
       "      <td>2467</td>\n",
       "    </tr>\n",
       "  </tbody>\n",
       "</table>\n",
       "<p>478138 rows × 45 columns</p>\n",
       "</div>"
      ],
      "text/plain": [
       "                instance_id  item_id                       item_category_list  \\\n",
       "0        108641074714126964     3760  7908382889764677758;5799347067982556520   \n",
       "1       5754713551599725161     3760  7908382889764677758;5799347067982556520   \n",
       "2        842679481291040981     3760  7908382889764677758;5799347067982556520   \n",
       "3        937088850059189027     3760  7908382889764677758;5799347067982556520   \n",
       "4       7975697065017708072     3760  7908382889764677758;5799347067982556520   \n",
       "...                     ...      ...                                      ...   \n",
       "478133  5940763769799191887     5531  7908382889764677758;5755694407684602296   \n",
       "478134  3387284546470665526     5531  7908382889764677758;5755694407684602296   \n",
       "478135  5693770660150212848     5531  7908382889764677758;5755694407684602296   \n",
       "478136  4623253188146764341     5531  7908382889764677758;5755694407684602296   \n",
       "478137  8013124750038806831     4154  7908382889764677758;5755694407684602296   \n",
       "\n",
       "        item_property_list  item_brand_id  item_city_id  item_price_level  \\\n",
       "0                     2260            447            49               3.0   \n",
       "1                     2260            447            49               3.0   \n",
       "2                     2260            447            49               3.0   \n",
       "3                     2260            447            49               3.0   \n",
       "4                     2260            447            49               3.0   \n",
       "...                    ...            ...           ...               ...   \n",
       "478133                5624            583            49               8.0   \n",
       "478134                5624            583            49               8.0   \n",
       "478135                5624            583            49               8.0   \n",
       "478136                5624            583            49               8.0   \n",
       "478137                7582           1459            98               7.0   \n",
       "\n",
       "        item_sales_level  item_collected_level  item_pv_level  ...  query1  \\\n",
       "0                    3.0                   4.0           14.0  ...     152   \n",
       "1                    3.0                   4.0           14.0  ...     152   \n",
       "2                    3.0                   4.0           14.0  ...     152   \n",
       "3                    3.0                   4.0           14.0  ...     128   \n",
       "4                    3.0                   4.0           14.0  ...     152   \n",
       "...                  ...                   ...            ...  ...     ...   \n",
       "478133              10.0                  13.0           14.0  ...     242   \n",
       "478134              10.0                  13.0           14.0  ...     150   \n",
       "478135              10.0                  13.0           14.0  ...     150   \n",
       "478136              10.0                  13.0           14.0  ...     242   \n",
       "478137               3.0                   4.0           11.0  ...     150   \n",
       "\n",
       "        query  cate                                                top  top1  \\\n",
       "0        9325     9  (2636395404473730413, 2636395404473730413_5131...     2   \n",
       "1       10370     9  (2636395404473730413, 2636395404473730413_5131...     2   \n",
       "2       10333     9  (2636395404473730413, 2636395404473730413_5131...     2   \n",
       "3        3677     9  (2636395404473730413, 2636395404473730413_5131...     2   \n",
       "4       10370     9  (2636395404473730413, 2636395404473730413_5131...     2   \n",
       "...       ...   ...                                                ...   ...   \n",
       "478133   5887     8  (2636395404473730413, 2636395404473730413_5131...     2   \n",
       "478134   2798     8  (2636395404473730413, 2636395404473730413_5131...     2   \n",
       "478135  10179     8  (2636395404473730413, 2636395404473730413_5131...     2   \n",
       "478136   2120     8  (2636395404473730413, 2636395404473730413_5131...     2   \n",
       "478137   9518     8  (2636395404473730413, 2636395404473730413_5131...     2   \n",
       "\n",
       "        top2 top3  top4  top5  top10  \n",
       "0         20  117   281   450    741  \n",
       "1         20  117   281   450    741  \n",
       "2         20  117   281   450    741  \n",
       "3         20  117   281   450    741  \n",
       "4         20  117   281   450    741  \n",
       "...      ...  ...   ...   ...    ...  \n",
       "478133    20  114   275   430    687  \n",
       "478134    20  114   275   430    687  \n",
       "478135    20  114   275   430    687  \n",
       "478136    20  114   275   430    687  \n",
       "478137    20  145   441   905   2467  \n",
       "\n",
       "[478138 rows x 45 columns]"
      ]
     },
     "execution_count": 33,
     "metadata": {},
     "output_type": "execute_result"
    }
   ],
   "source": [
    "encode(train)"
   ]
  },
  {
   "cell_type": "code",
   "execution_count": 36,
   "id": "e4b3fe12-16a3-4abb-8a89-2f66df9f3c4c",
   "metadata": {
    "execution": {
     "iopub.execute_input": "2023-07-13T03:49:20.706477Z",
     "iopub.status.busy": "2023-07-13T03:49:20.705874Z",
     "iopub.status.idle": "2023-07-13T03:49:36.722893Z",
     "shell.execute_reply": "2023-07-13T03:49:36.722307Z",
     "shell.execute_reply.started": "2023-07-13T03:49:20.706450Z"
    },
    "tags": []
   },
   "outputs": [],
   "source": [
    "train.to_csv(\"./origin_concat.csv\", index=False)"
   ]
  },
  {
   "cell_type": "code",
   "execution_count": null,
   "id": "39ebc623-bd79-417b-8f4a-7848705290b3",
   "metadata": {},
   "outputs": [],
   "source": []
  },
  {
   "cell_type": "markdown",
   "id": "f2c40c55-e7b6-455c-91de-c1c897d245db",
   "metadata": {},
   "source": [
    "# base_feature.py"
   ]
  },
  {
   "cell_type": "code",
   "execution_count": 38,
   "id": "4dd97512-1cf8-4e11-bb05-4a69a865952a",
   "metadata": {
    "execution": {
     "iopub.execute_input": "2023-07-13T03:54:02.494578Z",
     "iopub.status.busy": "2023-07-13T03:54:02.493978Z",
     "iopub.status.idle": "2023-07-13T03:54:02.499990Z",
     "shell.execute_reply": "2023-07-13T03:54:02.499092Z",
     "shell.execute_reply.started": "2023-07-13T03:54:02.494550Z"
    },
    "tags": []
   },
   "outputs": [
    {
     "data": {
      "text/plain": [
       "10"
      ]
     },
     "execution_count": 38,
     "metadata": {},
     "output_type": "execute_result"
    }
   ],
   "source": [
    "processor = cpu_count() - 2\n",
    "processor"
   ]
  },
  {
   "cell_type": "code",
   "execution_count": null,
   "id": "fbcb2109-9779-45ce-b4d5-203f3f8ece95",
   "metadata": {},
   "outputs": [],
   "source": [
    "def query_data_prepare():\n",
    "    data=pd.read_csv('./origin_concat.csv')\n",
    "    \n",
    "    data=data[data.day>=6]\n",
    "    data = data.sort_values(by=['user_id', 'context_timestamp']).reset_index(drop=True)\n",
    "    users = pd.DataFrame(list(set(data['user_id'].values)), columns=['user_id'])\n",
    "    l_data = len(users)\n",
    "    size = math.ceil(l_data / processor)\n",
    "    \n",
    "    for i in range(processor):\n",
    "        start = size * i\n",
    "        end = (i + 1) * size if (i + 1) * size < l_data else l_data\n",
    "        user = users[start:end]\n",
    "        t_data = pd.merge(data, user, on='user_id').reset_index(drop=True)\n",
    "        t_data.to_csv('./query_'+str(i)+'.csv',index=False)\n",
    "        print(len(t_data))"
   ]
  },
  {
   "cell_type": "code",
   "execution_count": 40,
   "id": "c4dc5ed2-ba82-4e21-8b79-e7ea3aa59bff",
   "metadata": {
    "execution": {
     "iopub.execute_input": "2023-07-13T03:57:54.611869Z",
     "iopub.status.busy": "2023-07-13T03:57:54.611494Z",
     "iopub.status.idle": "2023-07-13T03:57:54.626516Z",
     "shell.execute_reply": "2023-07-13T03:57:54.625681Z",
     "shell.execute_reply.started": "2023-07-13T03:57:54.611840Z"
    },
    "tags": []
   },
   "outputs": [
    {
     "data": {
      "text/plain": [
       "18.0    78268\n",
       "21.0    71199\n",
       "19.0    70931\n",
       "20.0    68387\n",
       "22.0    68318\n",
       "23.0    63614\n",
       "24.0    57421\n",
       "Name: day, dtype: int64"
      ]
     },
     "execution_count": 40,
     "metadata": {},
     "output_type": "execute_result"
    }
   ],
   "source": [
    "train.day.value_counts()"
   ]
  },
  {
   "cell_type": "code",
   "execution_count": null,
   "id": "16c2b5a8-faf3-4a3e-9032-3de64117827f",
   "metadata": {},
   "outputs": [],
   "source": []
  },
  {
   "cell_type": "code",
   "execution_count": null,
   "id": "f798333b-3aa7-4994-99ae-942a6b96bf03",
   "metadata": {},
   "outputs": [],
   "source": []
  },
  {
   "cell_type": "code",
   "execution_count": null,
   "id": "f5279a84-deae-4c65-b2cb-2dc38ca88bf6",
   "metadata": {},
   "outputs": [],
   "source": []
  },
  {
   "cell_type": "code",
   "execution_count": null,
   "id": "3eb594f5-e356-42fe-bdc9-ba051f30b1a5",
   "metadata": {},
   "outputs": [],
   "source": []
  }
 ],
 "metadata": {
  "kernelspec": {
   "display_name": "Python 3 (ipykernel)",
   "language": "python",
   "name": "python3"
  },
  "language_info": {
   "codemirror_mode": {
    "name": "ipython",
    "version": 3
   },
   "file_extension": ".py",
   "mimetype": "text/x-python",
   "name": "python",
   "nbconvert_exporter": "python",
   "pygments_lexer": "ipython3",
   "version": "3.8.9"
  },
  "toc-autonumbering": true
 },
 "nbformat": 4,
 "nbformat_minor": 5
}
