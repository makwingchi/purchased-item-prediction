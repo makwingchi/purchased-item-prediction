{
 "cells": [
  {
   "cell_type": "code",
   "execution_count": 46,
   "id": "ee736ca5-1d0a-403a-a378-8b0396ee0913",
   "metadata": {
    "execution": {
     "iopub.execute_input": "2023-07-10T08:50:55.233117Z",
     "iopub.status.busy": "2023-07-10T08:50:55.229197Z",
     "iopub.status.idle": "2023-07-10T08:51:15.420167Z",
     "shell.execute_reply": "2023-07-10T08:51:15.419460Z",
     "shell.execute_reply.started": "2023-07-10T08:50:55.233030Z"
    },
    "tags": []
   },
   "outputs": [],
   "source": [
    "import os\n",
    "import datetime\n",
    "import joblib\n",
    "\n",
    "from tqdm import tqdm\n",
    "\n",
    "import numpy as np\n",
    "import pandas as pd\n",
    "\n",
    "import seaborn as sns\n",
    "\n",
    "import paddle\n",
    "from paddle.io import Dataset, DataLoader"
   ]
  },
  {
   "cell_type": "code",
   "execution_count": null,
   "id": "a88c5764-bf6d-4170-8e9e-db3ff6109b16",
   "metadata": {},
   "outputs": [],
   "source": []
  },
  {
   "cell_type": "markdown",
   "id": "81f2042f-a047-41bd-b5fc-9a3ef6cd9793",
   "metadata": {},
   "source": [
    "# Load Datasets"
   ]
  },
  {
   "cell_type": "markdown",
   "id": "0ddff20e-e9bf-4bd3-bce8-c7297e2165c1",
   "metadata": {},
   "source": [
    "## purchase records"
   ]
  },
  {
   "cell_type": "code",
   "execution_count": 2,
   "id": "9157e4e0-84a2-4dcc-9c14-951d3592919a",
   "metadata": {
    "execution": {
     "iopub.execute_input": "2023-07-10T07:37:06.132046Z",
     "iopub.status.busy": "2023-07-10T07:37:06.131366Z",
     "iopub.status.idle": "2023-07-10T07:37:21.778232Z",
     "shell.execute_reply": "2023-07-10T07:37:21.776777Z",
     "shell.execute_reply.started": "2023-07-10T07:37:06.132019Z"
    },
    "tags": []
   },
   "outputs": [
    {
     "name": "stderr",
     "output_type": "stream",
     "text": [
      "100%|█████████████████████████████████████████████████████████████████████████████████████████████████████████████████████████████████████████████████████████████████████████| 61/61 [00:15<00:00,  3.91it/s]\n"
     ]
    }
   ],
   "source": [
    "user_folder = \"./训练集/traindata_user\"\n",
    "\n",
    "user_file_ls = os.listdir(user_folder)\n",
    "user_file_ls = [_file for _file in user_file_ls if _file.startswith(\"part\")]\n",
    "\n",
    "training_ls = []\n",
    "\n",
    "for _file in tqdm(user_file_ls):\n",
    "    training_ls.append(\n",
    "        pd.read_csv(\n",
    "            os.path.join(user_folder, _file),\n",
    "            names=[\"user_id\", \"goods_id\", \"is_click\", \"is_like\", \"is_addcart\", \"is_order\", \"timestamp\", \"dt\"]\n",
    "        )\n",
    "    )"
   ]
  },
  {
   "cell_type": "code",
   "execution_count": 16,
   "id": "67bded43-a007-4418-ad6d-9857fe852032",
   "metadata": {
    "execution": {
     "iopub.execute_input": "2023-07-10T07:41:58.577952Z",
     "iopub.status.busy": "2023-07-10T07:41:58.577264Z",
     "iopub.status.idle": "2023-07-10T07:41:59.810298Z",
     "shell.execute_reply": "2023-07-10T07:41:59.808386Z",
     "shell.execute_reply.started": "2023-07-10T07:41:58.577924Z"
    },
    "tags": []
   },
   "outputs": [],
   "source": [
    "purchase = pd.concat(training_ls, ignore_index=True)"
   ]
  },
  {
   "cell_type": "code",
   "execution_count": 17,
   "id": "e2920e76-6a05-4e25-8826-1794b9c965df",
   "metadata": {
    "execution": {
     "iopub.execute_input": "2023-07-10T07:42:01.525195Z",
     "iopub.status.busy": "2023-07-10T07:42:01.524596Z",
     "iopub.status.idle": "2023-07-10T07:42:01.537370Z",
     "shell.execute_reply": "2023-07-10T07:42:01.536573Z",
     "shell.execute_reply.started": "2023-07-10T07:42:01.525165Z"
    },
    "tags": []
   },
   "outputs": [
    {
     "data": {
      "text/html": [
       "<div>\n",
       "<style scoped>\n",
       "    .dataframe tbody tr th:only-of-type {\n",
       "        vertical-align: middle;\n",
       "    }\n",
       "\n",
       "    .dataframe tbody tr th {\n",
       "        vertical-align: top;\n",
       "    }\n",
       "\n",
       "    .dataframe thead th {\n",
       "        text-align: right;\n",
       "    }\n",
       "</style>\n",
       "<table border=\"1\" class=\"dataframe\">\n",
       "  <thead>\n",
       "    <tr style=\"text-align: right;\">\n",
       "      <th></th>\n",
       "      <th>user_id</th>\n",
       "      <th>goods_id</th>\n",
       "      <th>is_click</th>\n",
       "      <th>is_like</th>\n",
       "      <th>is_addcart</th>\n",
       "      <th>is_order</th>\n",
       "      <th>timestamp</th>\n",
       "      <th>dt</th>\n",
       "    </tr>\n",
       "  </thead>\n",
       "  <tbody>\n",
       "    <tr>\n",
       "      <th>0</th>\n",
       "      <td>5f54b451d18143928b97b7915fcff7e2</td>\n",
       "      <td>7043f055c167b7b27ee8f04ba0613995</td>\n",
       "      <td>1</td>\n",
       "      <td>0</td>\n",
       "      <td>0</td>\n",
       "      <td>0</td>\n",
       "      <td>2023-02-04 17:55:03</td>\n",
       "      <td>20230204</td>\n",
       "    </tr>\n",
       "    <tr>\n",
       "      <th>1</th>\n",
       "      <td>3ae3bf6c5f5ad2bfac469e5dbf79ac6a</td>\n",
       "      <td>760d021b13388c4f61b56170b1cdff42</td>\n",
       "      <td>1</td>\n",
       "      <td>0</td>\n",
       "      <td>0</td>\n",
       "      <td>0</td>\n",
       "      <td>2023-02-04 17:45:39</td>\n",
       "      <td>20230204</td>\n",
       "    </tr>\n",
       "    <tr>\n",
       "      <th>2</th>\n",
       "      <td>8ce414ebafa75feed526a630cc855464</td>\n",
       "      <td>0689e0a5f15b73fd2ed2737d6ca17545</td>\n",
       "      <td>1</td>\n",
       "      <td>0</td>\n",
       "      <td>0</td>\n",
       "      <td>0</td>\n",
       "      <td>2023-02-04 21:42:21</td>\n",
       "      <td>20230204</td>\n",
       "    </tr>\n",
       "    <tr>\n",
       "      <th>3</th>\n",
       "      <td>8bcd231a1358d1684a9366b22164662a</td>\n",
       "      <td>abeeece58b49139287b11a5d6112b52a</td>\n",
       "      <td>1</td>\n",
       "      <td>0</td>\n",
       "      <td>0</td>\n",
       "      <td>0</td>\n",
       "      <td>2023-02-04 07:34:45</td>\n",
       "      <td>20230204</td>\n",
       "    </tr>\n",
       "    <tr>\n",
       "      <th>4</th>\n",
       "      <td>5e0ae64bc6b3cf5069b4515e26420a33</td>\n",
       "      <td>74159594306e14e9515bbd804b4bab84</td>\n",
       "      <td>1</td>\n",
       "      <td>0</td>\n",
       "      <td>0</td>\n",
       "      <td>0</td>\n",
       "      <td>2023-02-04 08:56:05</td>\n",
       "      <td>20230204</td>\n",
       "    </tr>\n",
       "  </tbody>\n",
       "</table>\n",
       "</div>"
      ],
      "text/plain": [
       "                            user_id                          goods_id  \\\n",
       "0  5f54b451d18143928b97b7915fcff7e2  7043f055c167b7b27ee8f04ba0613995   \n",
       "1  3ae3bf6c5f5ad2bfac469e5dbf79ac6a  760d021b13388c4f61b56170b1cdff42   \n",
       "2  8ce414ebafa75feed526a630cc855464  0689e0a5f15b73fd2ed2737d6ca17545   \n",
       "3  8bcd231a1358d1684a9366b22164662a  abeeece58b49139287b11a5d6112b52a   \n",
       "4  5e0ae64bc6b3cf5069b4515e26420a33  74159594306e14e9515bbd804b4bab84   \n",
       "\n",
       "   is_click  is_like  is_addcart  is_order            timestamp        dt  \n",
       "0         1        0           0         0  2023-02-04 17:55:03  20230204  \n",
       "1         1        0           0         0  2023-02-04 17:45:39  20230204  \n",
       "2         1        0           0         0  2023-02-04 21:42:21  20230204  \n",
       "3         1        0           0         0  2023-02-04 07:34:45  20230204  \n",
       "4         1        0           0         0  2023-02-04 08:56:05  20230204  "
      ]
     },
     "execution_count": 17,
     "metadata": {},
     "output_type": "execute_result"
    }
   ],
   "source": [
    "purchase.head()"
   ]
  },
  {
   "cell_type": "code",
   "execution_count": null,
   "id": "a3c45512-991d-452d-99dc-ecedaf6fbdf5",
   "metadata": {},
   "outputs": [],
   "source": []
  },
  {
   "cell_type": "code",
   "execution_count": 18,
   "id": "82045487-f4db-4a4f-9eee-3584aeb8bd3b",
   "metadata": {
    "execution": {
     "iopub.execute_input": "2023-07-10T07:42:08.586805Z",
     "iopub.status.busy": "2023-07-10T07:42:08.585806Z",
     "iopub.status.idle": "2023-07-10T07:42:08.601135Z",
     "shell.execute_reply": "2023-07-10T07:42:08.600106Z",
     "shell.execute_reply.started": "2023-07-10T07:42:08.586300Z"
    },
    "tags": []
   },
   "outputs": [
    {
     "data": {
      "text/plain": [
       "(7791816, 8)"
      ]
     },
     "execution_count": 18,
     "metadata": {},
     "output_type": "execute_result"
    }
   ],
   "source": [
    "purchase.shape"
   ]
  },
  {
   "cell_type": "code",
   "execution_count": 19,
   "id": "a4fabaf5-249a-4adb-9301-df6d375b69cf",
   "metadata": {
    "execution": {
     "iopub.execute_input": "2023-07-10T07:42:08.663051Z",
     "iopub.status.busy": "2023-07-10T07:42:08.662698Z",
     "iopub.status.idle": "2023-07-10T07:42:09.667419Z",
     "shell.execute_reply": "2023-07-10T07:42:09.666658Z",
     "shell.execute_reply.started": "2023-07-10T07:42:08.663023Z"
    },
    "tags": []
   },
   "outputs": [
    {
     "data": {
      "text/plain": [
       "51602"
      ]
     },
     "execution_count": 19,
     "metadata": {},
     "output_type": "execute_result"
    }
   ],
   "source": [
    "purchase[\"user_id\"].nunique()"
   ]
  },
  {
   "cell_type": "code",
   "execution_count": 20,
   "id": "c4e5269c-4e60-4744-990f-64f2da871683",
   "metadata": {
    "execution": {
     "iopub.execute_input": "2023-07-10T07:42:09.669577Z",
     "iopub.status.busy": "2023-07-10T07:42:09.669124Z",
     "iopub.status.idle": "2023-07-10T07:42:12.366561Z",
     "shell.execute_reply": "2023-07-10T07:42:12.365350Z",
     "shell.execute_reply.started": "2023-07-10T07:42:09.669547Z"
    },
    "tags": []
   },
   "outputs": [
    {
     "data": {
      "text/plain": [
       "1531577"
      ]
     },
     "execution_count": 20,
     "metadata": {},
     "output_type": "execute_result"
    }
   ],
   "source": [
    "purchase[\"goods_id\"].nunique()"
   ]
  },
  {
   "cell_type": "code",
   "execution_count": null,
   "id": "13215d7c-26ab-484c-ad76-5beac63eb808",
   "metadata": {},
   "outputs": [],
   "source": []
  },
  {
   "cell_type": "markdown",
   "id": "8fccb241-b037-430f-848a-50464557137d",
   "metadata": {},
   "source": [
    "## items"
   ]
  },
  {
   "cell_type": "code",
   "execution_count": 8,
   "id": "d527b782-926b-4af6-a74a-f21d3007fb52",
   "metadata": {
    "execution": {
     "iopub.execute_input": "2023-07-10T07:38:18.180112Z",
     "iopub.status.busy": "2023-07-10T07:38:18.179758Z",
     "iopub.status.idle": "2023-07-10T07:38:18.189268Z",
     "shell.execute_reply": "2023-07-10T07:38:18.188227Z",
     "shell.execute_reply.started": "2023-07-10T07:38:18.180084Z"
    },
    "tags": []
   },
   "outputs": [
    {
     "data": {
      "text/plain": [
       "['part-00002', 'part-00001', 'part-00000']"
      ]
     },
     "execution_count": 8,
     "metadata": {},
     "output_type": "execute_result"
    }
   ],
   "source": [
    "item_folder = \"./训练集/traindata_goodsid\"\n",
    "\n",
    "item_file_ls = os.listdir(item_folder)\n",
    "item_file_ls = [_file for _file in item_file_ls if _file.startswith(\"part\")]\n",
    "\n",
    "item_file_ls"
   ]
  },
  {
   "cell_type": "code",
   "execution_count": 9,
   "id": "c969c731-4f78-41ce-93e5-20024524344e",
   "metadata": {
    "execution": {
     "iopub.execute_input": "2023-07-10T07:38:22.619443Z",
     "iopub.status.busy": "2023-07-10T07:38:22.618722Z",
     "iopub.status.idle": "2023-07-10T07:38:27.081632Z",
     "shell.execute_reply": "2023-07-10T07:38:27.080559Z",
     "shell.execute_reply.started": "2023-07-10T07:38:22.619412Z"
    },
    "tags": []
   },
   "outputs": [
    {
     "name": "stderr",
     "output_type": "stream",
     "text": [
      "100%|███████████████████████████████████████████████████████████████████████████████████████████████████████████████████████████████████████████████████████████████████████████| 3/3 [00:04<00:00,  1.48s/it]\n"
     ]
    }
   ],
   "source": [
    "item_ls = []\n",
    "\n",
    "for _file in tqdm(item_file_ls):\n",
    "    item_ls.append(\n",
    "        pd.read_csv(\n",
    "            os.path.join(item_folder, _file),\n",
    "            names=[\"goods_id\", \"category_id\", \"brand_id\"]\n",
    "        )\n",
    "    )"
   ]
  },
  {
   "cell_type": "code",
   "execution_count": 10,
   "id": "8a23c58d-bdde-4d12-b65c-3e790a407602",
   "metadata": {
    "execution": {
     "iopub.execute_input": "2023-07-10T07:38:29.388996Z",
     "iopub.status.busy": "2023-07-10T07:38:29.388623Z",
     "iopub.status.idle": "2023-07-10T07:38:29.487149Z",
     "shell.execute_reply": "2023-07-10T07:38:29.486247Z",
     "shell.execute_reply.started": "2023-07-10T07:38:29.388968Z"
    },
    "tags": []
   },
   "outputs": [],
   "source": [
    "items = pd.concat(item_ls, ignore_index=True)"
   ]
  },
  {
   "cell_type": "code",
   "execution_count": 11,
   "id": "b6626bdc-f9a6-4038-af74-6fb96e86925d",
   "metadata": {
    "execution": {
     "iopub.execute_input": "2023-07-10T07:38:31.551198Z",
     "iopub.status.busy": "2023-07-10T07:38:31.550823Z",
     "iopub.status.idle": "2023-07-10T07:38:31.560029Z",
     "shell.execute_reply": "2023-07-10T07:38:31.559128Z",
     "shell.execute_reply.started": "2023-07-10T07:38:31.551167Z"
    },
    "tags": []
   },
   "outputs": [
    {
     "data": {
      "text/html": [
       "<div>\n",
       "<style scoped>\n",
       "    .dataframe tbody tr th:only-of-type {\n",
       "        vertical-align: middle;\n",
       "    }\n",
       "\n",
       "    .dataframe tbody tr th {\n",
       "        vertical-align: top;\n",
       "    }\n",
       "\n",
       "    .dataframe thead th {\n",
       "        text-align: right;\n",
       "    }\n",
       "</style>\n",
       "<table border=\"1\" class=\"dataframe\">\n",
       "  <thead>\n",
       "    <tr style=\"text-align: right;\">\n",
       "      <th></th>\n",
       "      <th>goods_id</th>\n",
       "      <th>category_id</th>\n",
       "      <th>brand_id</th>\n",
       "    </tr>\n",
       "  </thead>\n",
       "  <tbody>\n",
       "    <tr>\n",
       "      <th>0</th>\n",
       "      <td>9008b406a45c88d31cacefbe435402c8</td>\n",
       "      <td>1068c6e4c8051cfd4e9ea8072e3189e2</td>\n",
       "      <td>c60a61c10d2a17a26e11e2175ec47740</td>\n",
       "    </tr>\n",
       "    <tr>\n",
       "      <th>1</th>\n",
       "      <td>593a2cab5ac5bb9f2ecb8bfe80a6f41a</td>\n",
       "      <td>7d847c831f8f93bbf7bcc6f5bdb67146</td>\n",
       "      <td>7561df74e6902ab1208c6c0f8595f24d</td>\n",
       "    </tr>\n",
       "    <tr>\n",
       "      <th>2</th>\n",
       "      <td>8ebfadb015de0b0ee949e545d11daf00</td>\n",
       "      <td>d1c96ae7ab32cffa398efc9912c8a9f2</td>\n",
       "      <td>dff59ee903912aa8e6bdb8bc24dfb69a</td>\n",
       "    </tr>\n",
       "    <tr>\n",
       "      <th>3</th>\n",
       "      <td>80084ce8be983ab34cab2abe96a07818</td>\n",
       "      <td>79ea169f7f67d5ca4e93ad3c163e41d4</td>\n",
       "      <td>0f348b9abd09bd11a8331e227c01a48a</td>\n",
       "    </tr>\n",
       "    <tr>\n",
       "      <th>4</th>\n",
       "      <td>5d0051a59a88afa2d3c18a4055e26303</td>\n",
       "      <td>0d7de1aca9299fe63f3e0041f02638a3</td>\n",
       "      <td>48956731f24439cdb0d6ad2c5a765080</td>\n",
       "    </tr>\n",
       "  </tbody>\n",
       "</table>\n",
       "</div>"
      ],
      "text/plain": [
       "                           goods_id                       category_id  \\\n",
       "0  9008b406a45c88d31cacefbe435402c8  1068c6e4c8051cfd4e9ea8072e3189e2   \n",
       "1  593a2cab5ac5bb9f2ecb8bfe80a6f41a  7d847c831f8f93bbf7bcc6f5bdb67146   \n",
       "2  8ebfadb015de0b0ee949e545d11daf00  d1c96ae7ab32cffa398efc9912c8a9f2   \n",
       "3  80084ce8be983ab34cab2abe96a07818  79ea169f7f67d5ca4e93ad3c163e41d4   \n",
       "4  5d0051a59a88afa2d3c18a4055e26303  0d7de1aca9299fe63f3e0041f02638a3   \n",
       "\n",
       "                           brand_id  \n",
       "0  c60a61c10d2a17a26e11e2175ec47740  \n",
       "1  7561df74e6902ab1208c6c0f8595f24d  \n",
       "2  dff59ee903912aa8e6bdb8bc24dfb69a  \n",
       "3  0f348b9abd09bd11a8331e227c01a48a  \n",
       "4  48956731f24439cdb0d6ad2c5a765080  "
      ]
     },
     "execution_count": 11,
     "metadata": {},
     "output_type": "execute_result"
    }
   ],
   "source": [
    "items.head()"
   ]
  },
  {
   "cell_type": "code",
   "execution_count": 12,
   "id": "807a03b5-d55e-4cb7-b24a-8233c48e2b6e",
   "metadata": {
    "execution": {
     "iopub.execute_input": "2023-07-10T07:38:33.657425Z",
     "iopub.status.busy": "2023-07-10T07:38:33.657082Z",
     "iopub.status.idle": "2023-07-10T07:38:33.663226Z",
     "shell.execute_reply": "2023-07-10T07:38:33.662451Z",
     "shell.execute_reply.started": "2023-07-10T07:38:33.657398Z"
    },
    "tags": []
   },
   "outputs": [
    {
     "data": {
      "text/plain": [
       "(3465608, 3)"
      ]
     },
     "execution_count": 12,
     "metadata": {},
     "output_type": "execute_result"
    }
   ],
   "source": [
    "items.shape"
   ]
  },
  {
   "cell_type": "code",
   "execution_count": 13,
   "id": "cab2148a-2d62-42cb-a8a9-bc680ee24868",
   "metadata": {
    "execution": {
     "iopub.execute_input": "2023-07-10T07:38:34.421808Z",
     "iopub.status.busy": "2023-07-10T07:38:34.421465Z",
     "iopub.status.idle": "2023-07-10T07:38:36.775148Z",
     "shell.execute_reply": "2023-07-10T07:38:36.774137Z",
     "shell.execute_reply.started": "2023-07-10T07:38:34.421780Z"
    },
    "tags": []
   },
   "outputs": [
    {
     "data": {
      "text/plain": [
       "3465608"
      ]
     },
     "execution_count": 13,
     "metadata": {},
     "output_type": "execute_result"
    }
   ],
   "source": [
    "items[\"goods_id\"].nunique()"
   ]
  },
  {
   "cell_type": "code",
   "execution_count": 14,
   "id": "5c2fcb65-4d48-4ac6-b365-a72b8f3e8b07",
   "metadata": {
    "execution": {
     "iopub.execute_input": "2023-07-10T07:38:38.789713Z",
     "iopub.status.busy": "2023-07-10T07:38:38.788984Z",
     "iopub.status.idle": "2023-07-10T07:38:39.011175Z",
     "shell.execute_reply": "2023-07-10T07:38:39.010293Z",
     "shell.execute_reply.started": "2023-07-10T07:38:38.789679Z"
    },
    "tags": []
   },
   "outputs": [
    {
     "data": {
      "text/plain": [
       "1804"
      ]
     },
     "execution_count": 14,
     "metadata": {},
     "output_type": "execute_result"
    }
   ],
   "source": [
    "items[\"category_id\"].nunique()"
   ]
  },
  {
   "cell_type": "code",
   "execution_count": 15,
   "id": "2c8a3261-aad2-4f4f-b5be-c17f832bbc10",
   "metadata": {
    "execution": {
     "iopub.execute_input": "2023-07-10T07:38:41.247111Z",
     "iopub.status.busy": "2023-07-10T07:38:41.246742Z",
     "iopub.status.idle": "2023-07-10T07:38:41.502753Z",
     "shell.execute_reply": "2023-07-10T07:38:41.502049Z",
     "shell.execute_reply.started": "2023-07-10T07:38:41.247083Z"
    },
    "tags": []
   },
   "outputs": [
    {
     "data": {
      "text/plain": [
       "5874"
      ]
     },
     "execution_count": 15,
     "metadata": {},
     "output_type": "execute_result"
    }
   ],
   "source": [
    "items[\"brand_id\"].nunique()"
   ]
  },
  {
   "cell_type": "code",
   "execution_count": null,
   "id": "41f36955-9b78-40a8-8127-ed32bca2b239",
   "metadata": {},
   "outputs": [],
   "source": []
  },
  {
   "cell_type": "markdown",
   "id": "45f65b2c-d03d-45f8-b199-a0c124907fd7",
   "metadata": {},
   "source": [
    "## merge"
   ]
  },
  {
   "cell_type": "code",
   "execution_count": 26,
   "id": "941c5465-3e46-47ac-9c98-c57d1af14886",
   "metadata": {
    "execution": {
     "iopub.execute_input": "2023-07-10T07:44:16.870383Z",
     "iopub.status.busy": "2023-07-10T07:44:16.870010Z",
     "iopub.status.idle": "2023-07-10T07:44:33.271852Z",
     "shell.execute_reply": "2023-07-10T07:44:33.270216Z",
     "shell.execute_reply.started": "2023-07-10T07:44:16.870354Z"
    },
    "tags": []
   },
   "outputs": [
    {
     "data": {
      "text/html": [
       "<div>\n",
       "<style scoped>\n",
       "    .dataframe tbody tr th:only-of-type {\n",
       "        vertical-align: middle;\n",
       "    }\n",
       "\n",
       "    .dataframe tbody tr th {\n",
       "        vertical-align: top;\n",
       "    }\n",
       "\n",
       "    .dataframe thead th {\n",
       "        text-align: right;\n",
       "    }\n",
       "</style>\n",
       "<table border=\"1\" class=\"dataframe\">\n",
       "  <thead>\n",
       "    <tr style=\"text-align: right;\">\n",
       "      <th></th>\n",
       "      <th>user_id</th>\n",
       "      <th>goods_id</th>\n",
       "      <th>is_click</th>\n",
       "      <th>is_like</th>\n",
       "      <th>is_addcart</th>\n",
       "      <th>is_order</th>\n",
       "      <th>timestamp</th>\n",
       "      <th>dt</th>\n",
       "      <th>category_id</th>\n",
       "      <th>brand_id</th>\n",
       "    </tr>\n",
       "  </thead>\n",
       "  <tbody>\n",
       "    <tr>\n",
       "      <th>0</th>\n",
       "      <td>5f54b451d18143928b97b7915fcff7e2</td>\n",
       "      <td>7043f055c167b7b27ee8f04ba0613995</td>\n",
       "      <td>1</td>\n",
       "      <td>0</td>\n",
       "      <td>0</td>\n",
       "      <td>0</td>\n",
       "      <td>2023-02-04 17:55:03</td>\n",
       "      <td>20230204</td>\n",
       "      <td>db634857abdceb373ea3fbad4145e1d6</td>\n",
       "      <td>36b058818a9d5058a0ebf3f13080348f</td>\n",
       "    </tr>\n",
       "    <tr>\n",
       "      <th>1</th>\n",
       "      <td>8c16f8c2d7eaf0966809575411127a44</td>\n",
       "      <td>7043f055c167b7b27ee8f04ba0613995</td>\n",
       "      <td>1</td>\n",
       "      <td>0</td>\n",
       "      <td>0</td>\n",
       "      <td>0</td>\n",
       "      <td>2023-02-04 15:41:15</td>\n",
       "      <td>20230204</td>\n",
       "      <td>db634857abdceb373ea3fbad4145e1d6</td>\n",
       "      <td>36b058818a9d5058a0ebf3f13080348f</td>\n",
       "    </tr>\n",
       "    <tr>\n",
       "      <th>2</th>\n",
       "      <td>163f7872d4ec36de4b2a30d4856fe1cd</td>\n",
       "      <td>7043f055c167b7b27ee8f04ba0613995</td>\n",
       "      <td>1</td>\n",
       "      <td>0</td>\n",
       "      <td>0</td>\n",
       "      <td>0</td>\n",
       "      <td>2023-02-11 13:14:31</td>\n",
       "      <td>20230211</td>\n",
       "      <td>db634857abdceb373ea3fbad4145e1d6</td>\n",
       "      <td>36b058818a9d5058a0ebf3f13080348f</td>\n",
       "    </tr>\n",
       "    <tr>\n",
       "      <th>3</th>\n",
       "      <td>ef3e9430956f58d7b96081dffc9ea16e</td>\n",
       "      <td>7043f055c167b7b27ee8f04ba0613995</td>\n",
       "      <td>1</td>\n",
       "      <td>0</td>\n",
       "      <td>0</td>\n",
       "      <td>0</td>\n",
       "      <td>2023-02-12 20:01:57</td>\n",
       "      <td>20230212</td>\n",
       "      <td>db634857abdceb373ea3fbad4145e1d6</td>\n",
       "      <td>36b058818a9d5058a0ebf3f13080348f</td>\n",
       "    </tr>\n",
       "    <tr>\n",
       "      <th>4</th>\n",
       "      <td>4c56c88b7ee745e58fb2178495224eea</td>\n",
       "      <td>7043f055c167b7b27ee8f04ba0613995</td>\n",
       "      <td>1</td>\n",
       "      <td>0</td>\n",
       "      <td>0</td>\n",
       "      <td>0</td>\n",
       "      <td>2023-02-07 22:46:33</td>\n",
       "      <td>20230207</td>\n",
       "      <td>db634857abdceb373ea3fbad4145e1d6</td>\n",
       "      <td>36b058818a9d5058a0ebf3f13080348f</td>\n",
       "    </tr>\n",
       "  </tbody>\n",
       "</table>\n",
       "</div>"
      ],
      "text/plain": [
       "                            user_id                          goods_id  \\\n",
       "0  5f54b451d18143928b97b7915fcff7e2  7043f055c167b7b27ee8f04ba0613995   \n",
       "1  8c16f8c2d7eaf0966809575411127a44  7043f055c167b7b27ee8f04ba0613995   \n",
       "2  163f7872d4ec36de4b2a30d4856fe1cd  7043f055c167b7b27ee8f04ba0613995   \n",
       "3  ef3e9430956f58d7b96081dffc9ea16e  7043f055c167b7b27ee8f04ba0613995   \n",
       "4  4c56c88b7ee745e58fb2178495224eea  7043f055c167b7b27ee8f04ba0613995   \n",
       "\n",
       "   is_click  is_like  is_addcart  is_order            timestamp        dt  \\\n",
       "0         1        0           0         0  2023-02-04 17:55:03  20230204   \n",
       "1         1        0           0         0  2023-02-04 15:41:15  20230204   \n",
       "2         1        0           0         0  2023-02-11 13:14:31  20230211   \n",
       "3         1        0           0         0  2023-02-12 20:01:57  20230212   \n",
       "4         1        0           0         0  2023-02-07 22:46:33  20230207   \n",
       "\n",
       "                        category_id                          brand_id  \n",
       "0  db634857abdceb373ea3fbad4145e1d6  36b058818a9d5058a0ebf3f13080348f  \n",
       "1  db634857abdceb373ea3fbad4145e1d6  36b058818a9d5058a0ebf3f13080348f  \n",
       "2  db634857abdceb373ea3fbad4145e1d6  36b058818a9d5058a0ebf3f13080348f  \n",
       "3  db634857abdceb373ea3fbad4145e1d6  36b058818a9d5058a0ebf3f13080348f  \n",
       "4  db634857abdceb373ea3fbad4145e1d6  36b058818a9d5058a0ebf3f13080348f  "
      ]
     },
     "execution_count": 26,
     "metadata": {},
     "output_type": "execute_result"
    }
   ],
   "source": [
    "training = purchase.merge(items, on=\"goods_id\")\n",
    "\n",
    "training.head()"
   ]
  },
  {
   "cell_type": "code",
   "execution_count": 27,
   "id": "c0de6e12-3e71-4d45-889b-b4562e47f267",
   "metadata": {
    "execution": {
     "iopub.execute_input": "2023-07-10T07:44:33.274106Z",
     "iopub.status.busy": "2023-07-10T07:44:33.273716Z",
     "iopub.status.idle": "2023-07-10T07:44:33.279993Z",
     "shell.execute_reply": "2023-07-10T07:44:33.278753Z",
     "shell.execute_reply.started": "2023-07-10T07:44:33.274077Z"
    },
    "tags": []
   },
   "outputs": [
    {
     "data": {
      "text/plain": [
       "((7791764, 10), (7791816, 8))"
      ]
     },
     "execution_count": 27,
     "metadata": {},
     "output_type": "execute_result"
    }
   ],
   "source": [
    "training.shape, purchase.shape"
   ]
  },
  {
   "cell_type": "code",
   "execution_count": null,
   "id": "d87f46e8-64d0-4d9b-9c76-114d8c1d32e3",
   "metadata": {},
   "outputs": [],
   "source": []
  },
  {
   "cell_type": "code",
   "execution_count": null,
   "id": "2a1758b0-f4ef-41df-8f58-4cf4ad25d2cd",
   "metadata": {},
   "outputs": [],
   "source": []
  },
  {
   "cell_type": "code",
   "execution_count": 29,
   "id": "28b06261-0dad-4edd-ba1f-68957d58299f",
   "metadata": {
    "execution": {
     "iopub.execute_input": "2023-07-10T07:49:29.673487Z",
     "iopub.status.busy": "2023-07-10T07:49:29.673076Z",
     "iopub.status.idle": "2023-07-10T07:49:35.390214Z",
     "shell.execute_reply": "2023-07-10T07:49:35.389223Z",
     "shell.execute_reply.started": "2023-07-10T07:49:29.673456Z"
    },
    "tags": []
   },
   "outputs": [
    {
     "data": {
      "text/plain": [
       "1589454"
      ]
     },
     "execution_count": 29,
     "metadata": {},
     "output_type": "execute_result"
    }
   ],
   "source": [
    "training[\"user_id\"].nunique() + training[\"goods_id\"].nunique() + training[\"category_id\"].nunique() + training[\"brand_id\"].nunique()"
   ]
  },
  {
   "cell_type": "code",
   "execution_count": 32,
   "id": "4cdcd32c-ab1d-488a-899d-a9f73390bc8e",
   "metadata": {
    "execution": {
     "iopub.execute_input": "2023-07-10T07:54:48.423395Z",
     "iopub.status.busy": "2023-07-10T07:54:48.423021Z",
     "iopub.status.idle": "2023-07-10T07:54:49.999586Z",
     "shell.execute_reply": "2023-07-10T07:54:49.997340Z",
     "shell.execute_reply.started": "2023-07-10T07:54:48.423368Z"
    },
    "tags": []
   },
   "outputs": [
    {
     "data": {
      "text/html": [
       "<div>\n",
       "<style scoped>\n",
       "    .dataframe tbody tr th:only-of-type {\n",
       "        vertical-align: middle;\n",
       "    }\n",
       "\n",
       "    .dataframe tbody tr th {\n",
       "        vertical-align: top;\n",
       "    }\n",
       "\n",
       "    .dataframe thead th {\n",
       "        text-align: right;\n",
       "    }\n",
       "</style>\n",
       "<table border=\"1\" class=\"dataframe\">\n",
       "  <thead>\n",
       "    <tr style=\"text-align: right;\">\n",
       "      <th></th>\n",
       "      <th>is_click</th>\n",
       "      <th>is_like</th>\n",
       "      <th>is_addcart</th>\n",
       "      <th>is_order</th>\n",
       "      <th>dt</th>\n",
       "    </tr>\n",
       "  </thead>\n",
       "  <tbody>\n",
       "    <tr>\n",
       "      <th>count</th>\n",
       "      <td>7.791764e+06</td>\n",
       "      <td>7.791764e+06</td>\n",
       "      <td>7.791764e+06</td>\n",
       "      <td>7.791764e+06</td>\n",
       "      <td>7.791764e+06</td>\n",
       "    </tr>\n",
       "    <tr>\n",
       "      <th>mean</th>\n",
       "      <td>1.058355e+00</td>\n",
       "      <td>1.687166e-02</td>\n",
       "      <td>6.208543e-02</td>\n",
       "      <td>7.392036e-03</td>\n",
       "      <td>2.023022e+07</td>\n",
       "    </tr>\n",
       "    <tr>\n",
       "      <th>std</th>\n",
       "      <td>2.777680e-01</td>\n",
       "      <td>1.312817e-01</td>\n",
       "      <td>2.667898e-01</td>\n",
       "      <td>9.054023e-02</td>\n",
       "      <td>2.620875e+01</td>\n",
       "    </tr>\n",
       "    <tr>\n",
       "      <th>min</th>\n",
       "      <td>1.000000e+00</td>\n",
       "      <td>0.000000e+00</td>\n",
       "      <td>0.000000e+00</td>\n",
       "      <td>0.000000e+00</td>\n",
       "      <td>2.023020e+07</td>\n",
       "    </tr>\n",
       "    <tr>\n",
       "      <th>25%</th>\n",
       "      <td>1.000000e+00</td>\n",
       "      <td>0.000000e+00</td>\n",
       "      <td>0.000000e+00</td>\n",
       "      <td>0.000000e+00</td>\n",
       "      <td>2.023021e+07</td>\n",
       "    </tr>\n",
       "    <tr>\n",
       "      <th>50%</th>\n",
       "      <td>1.000000e+00</td>\n",
       "      <td>0.000000e+00</td>\n",
       "      <td>0.000000e+00</td>\n",
       "      <td>0.000000e+00</td>\n",
       "      <td>2.023022e+07</td>\n",
       "    </tr>\n",
       "    <tr>\n",
       "      <th>75%</th>\n",
       "      <td>1.000000e+00</td>\n",
       "      <td>0.000000e+00</td>\n",
       "      <td>0.000000e+00</td>\n",
       "      <td>0.000000e+00</td>\n",
       "      <td>2.023022e+07</td>\n",
       "    </tr>\n",
       "    <tr>\n",
       "      <th>max</th>\n",
       "      <td>1.210000e+02</td>\n",
       "      <td>2.200000e+01</td>\n",
       "      <td>2.800000e+01</td>\n",
       "      <td>1.500000e+01</td>\n",
       "      <td>2.023030e+07</td>\n",
       "    </tr>\n",
       "  </tbody>\n",
       "</table>\n",
       "</div>"
      ],
      "text/plain": [
       "           is_click       is_like    is_addcart      is_order            dt\n",
       "count  7.791764e+06  7.791764e+06  7.791764e+06  7.791764e+06  7.791764e+06\n",
       "mean   1.058355e+00  1.687166e-02  6.208543e-02  7.392036e-03  2.023022e+07\n",
       "std    2.777680e-01  1.312817e-01  2.667898e-01  9.054023e-02  2.620875e+01\n",
       "min    1.000000e+00  0.000000e+00  0.000000e+00  0.000000e+00  2.023020e+07\n",
       "25%    1.000000e+00  0.000000e+00  0.000000e+00  0.000000e+00  2.023021e+07\n",
       "50%    1.000000e+00  0.000000e+00  0.000000e+00  0.000000e+00  2.023022e+07\n",
       "75%    1.000000e+00  0.000000e+00  0.000000e+00  0.000000e+00  2.023022e+07\n",
       "max    1.210000e+02  2.200000e+01  2.800000e+01  1.500000e+01  2.023030e+07"
      ]
     },
     "execution_count": 32,
     "metadata": {},
     "output_type": "execute_result"
    }
   ],
   "source": [
    "training.describe()"
   ]
  },
  {
   "cell_type": "code",
   "execution_count": 36,
   "id": "05135c53-0648-4eb1-9222-91eaa3498d69",
   "metadata": {
    "execution": {
     "iopub.execute_input": "2023-07-10T08:23:20.471889Z",
     "iopub.status.busy": "2023-07-10T08:23:20.470631Z",
     "iopub.status.idle": "2023-07-10T08:23:28.996941Z",
     "shell.execute_reply": "2023-07-10T08:23:28.996137Z",
     "shell.execute_reply.started": "2023-07-10T08:23:20.471856Z"
    },
    "tags": []
   },
   "outputs": [],
   "source": [
    "unique_ids = []\n",
    "\n",
    "unique_ids.extend(training[\"user_id\"].unique().tolist())\n",
    "unique_ids.extend(training[\"goods_id\"].unique().tolist())\n",
    "unique_ids.extend(training[\"category_id\"].unique().tolist())\n",
    "unique_ids.extend(training[\"brand_id\"].unique().tolist())"
   ]
  },
  {
   "cell_type": "code",
   "execution_count": 38,
   "id": "dfb796c7-19b1-4d7d-b8c4-2f3e97d60297",
   "metadata": {
    "execution": {
     "iopub.execute_input": "2023-07-10T08:24:03.089531Z",
     "iopub.status.busy": "2023-07-10T08:24:03.088279Z",
     "iopub.status.idle": "2023-07-10T08:24:03.757757Z",
     "shell.execute_reply": "2023-07-10T08:24:03.756910Z",
     "shell.execute_reply.started": "2023-07-10T08:24:03.089499Z"
    },
    "tags": []
   },
   "outputs": [],
   "source": [
    "id_map = {}\n",
    "\n",
    "for idx, _id in enumerate(unique_ids):\n",
    "    id_map[_id] = idx"
   ]
  },
  {
   "cell_type": "code",
   "execution_count": 41,
   "id": "87977e8d-c4ba-46c1-88eb-91fc23514aa1",
   "metadata": {
    "execution": {
     "iopub.execute_input": "2023-07-10T08:25:30.314641Z",
     "iopub.status.busy": "2023-07-10T08:25:30.313273Z",
     "iopub.status.idle": "2023-07-10T08:25:30.321523Z",
     "shell.execute_reply": "2023-07-10T08:25:30.320607Z",
     "shell.execute_reply.started": "2023-07-10T08:25:30.314606Z"
    },
    "tags": []
   },
   "outputs": [
    {
     "data": {
      "text/plain": [
       "1589454"
      ]
     },
     "execution_count": 41,
     "metadata": {},
     "output_type": "execute_result"
    }
   ],
   "source": [
    "len(id_map)"
   ]
  },
  {
   "cell_type": "code",
   "execution_count": null,
   "id": "bacf57df-7a7d-41ac-8cbb-c06da3395d77",
   "metadata": {},
   "outputs": [],
   "source": []
  },
  {
   "cell_type": "code",
   "execution_count": 42,
   "id": "321d2ae8-378f-4a2b-82ec-a59a17605969",
   "metadata": {
    "execution": {
     "iopub.execute_input": "2023-07-10T08:26:15.128833Z",
     "iopub.status.busy": "2023-07-10T08:26:15.128182Z",
     "iopub.status.idle": "2023-07-10T08:26:28.741739Z",
     "shell.execute_reply": "2023-07-10T08:26:28.740789Z",
     "shell.execute_reply.started": "2023-07-10T08:26:15.128802Z"
    },
    "tags": []
   },
   "outputs": [],
   "source": [
    "training[\"user_id\"] = training[\"user_id\"].apply(lambda x: id_map[x])\n",
    "training[\"goods_id\"] = training[\"goods_id\"].apply(lambda x: id_map[x])\n",
    "training[\"category_id\"] = training[\"category_id\"].apply(lambda x: id_map[x])\n",
    "training[\"brand_id\"] = training[\"brand_id\"].apply(lambda x: id_map[x])"
   ]
  },
  {
   "cell_type": "code",
   "execution_count": 43,
   "id": "ff2a9638-6a02-49e8-9556-19ad7f23eea7",
   "metadata": {
    "execution": {
     "iopub.execute_input": "2023-07-10T08:26:42.723849Z",
     "iopub.status.busy": "2023-07-10T08:26:42.723201Z",
     "iopub.status.idle": "2023-07-10T08:26:42.784472Z",
     "shell.execute_reply": "2023-07-10T08:26:42.783066Z",
     "shell.execute_reply.started": "2023-07-10T08:26:42.723819Z"
    },
    "tags": []
   },
   "outputs": [
    {
     "data": {
      "text/html": [
       "<div>\n",
       "<style scoped>\n",
       "    .dataframe tbody tr th:only-of-type {\n",
       "        vertical-align: middle;\n",
       "    }\n",
       "\n",
       "    .dataframe tbody tr th {\n",
       "        vertical-align: top;\n",
       "    }\n",
       "\n",
       "    .dataframe thead th {\n",
       "        text-align: right;\n",
       "    }\n",
       "</style>\n",
       "<table border=\"1\" class=\"dataframe\">\n",
       "  <thead>\n",
       "    <tr style=\"text-align: right;\">\n",
       "      <th></th>\n",
       "      <th>user_id</th>\n",
       "      <th>goods_id</th>\n",
       "      <th>is_click</th>\n",
       "      <th>is_like</th>\n",
       "      <th>is_addcart</th>\n",
       "      <th>is_order</th>\n",
       "      <th>timestamp</th>\n",
       "      <th>dt</th>\n",
       "      <th>category_id</th>\n",
       "      <th>brand_id</th>\n",
       "    </tr>\n",
       "  </thead>\n",
       "  <tbody>\n",
       "    <tr>\n",
       "      <th>0</th>\n",
       "      <td>0</td>\n",
       "      <td>51601</td>\n",
       "      <td>1</td>\n",
       "      <td>0</td>\n",
       "      <td>0</td>\n",
       "      <td>0</td>\n",
       "      <td>2023-02-04 17:55:03</td>\n",
       "      <td>20230204</td>\n",
       "      <td>1583127</td>\n",
       "      <td>1584743</td>\n",
       "    </tr>\n",
       "    <tr>\n",
       "      <th>1</th>\n",
       "      <td>1</td>\n",
       "      <td>51601</td>\n",
       "      <td>1</td>\n",
       "      <td>0</td>\n",
       "      <td>0</td>\n",
       "      <td>0</td>\n",
       "      <td>2023-02-04 15:41:15</td>\n",
       "      <td>20230204</td>\n",
       "      <td>1583127</td>\n",
       "      <td>1584743</td>\n",
       "    </tr>\n",
       "    <tr>\n",
       "      <th>2</th>\n",
       "      <td>2</td>\n",
       "      <td>51601</td>\n",
       "      <td>1</td>\n",
       "      <td>0</td>\n",
       "      <td>0</td>\n",
       "      <td>0</td>\n",
       "      <td>2023-02-11 13:14:31</td>\n",
       "      <td>20230211</td>\n",
       "      <td>1583127</td>\n",
       "      <td>1584743</td>\n",
       "    </tr>\n",
       "    <tr>\n",
       "      <th>3</th>\n",
       "      <td>3</td>\n",
       "      <td>51601</td>\n",
       "      <td>1</td>\n",
       "      <td>0</td>\n",
       "      <td>0</td>\n",
       "      <td>0</td>\n",
       "      <td>2023-02-12 20:01:57</td>\n",
       "      <td>20230212</td>\n",
       "      <td>1583127</td>\n",
       "      <td>1584743</td>\n",
       "    </tr>\n",
       "    <tr>\n",
       "      <th>4</th>\n",
       "      <td>4</td>\n",
       "      <td>51601</td>\n",
       "      <td>1</td>\n",
       "      <td>0</td>\n",
       "      <td>0</td>\n",
       "      <td>0</td>\n",
       "      <td>2023-02-07 22:46:33</td>\n",
       "      <td>20230207</td>\n",
       "      <td>1583127</td>\n",
       "      <td>1584743</td>\n",
       "    </tr>\n",
       "  </tbody>\n",
       "</table>\n",
       "</div>"
      ],
      "text/plain": [
       "   user_id  goods_id  is_click  is_like  is_addcart  is_order  \\\n",
       "0        0     51601         1        0           0         0   \n",
       "1        1     51601         1        0           0         0   \n",
       "2        2     51601         1        0           0         0   \n",
       "3        3     51601         1        0           0         0   \n",
       "4        4     51601         1        0           0         0   \n",
       "\n",
       "             timestamp        dt  category_id  brand_id  \n",
       "0  2023-02-04 17:55:03  20230204      1583127   1584743  \n",
       "1  2023-02-04 15:41:15  20230204      1583127   1584743  \n",
       "2  2023-02-11 13:14:31  20230211      1583127   1584743  \n",
       "3  2023-02-12 20:01:57  20230212      1583127   1584743  \n",
       "4  2023-02-07 22:46:33  20230207      1583127   1584743  "
      ]
     },
     "execution_count": 43,
     "metadata": {},
     "output_type": "execute_result"
    }
   ],
   "source": [
    "training.head()"
   ]
  },
  {
   "cell_type": "code",
   "execution_count": 45,
   "id": "9d66bcb5-4ea7-4919-8a9c-d025e49ffe4c",
   "metadata": {
    "execution": {
     "iopub.execute_input": "2023-07-10T08:27:57.889920Z",
     "iopub.status.busy": "2023-07-10T08:27:57.889561Z",
     "iopub.status.idle": "2023-07-10T08:28:31.781925Z",
     "shell.execute_reply": "2023-07-10T08:28:31.781228Z",
     "shell.execute_reply.started": "2023-07-10T08:27:57.889891Z"
    },
    "tags": []
   },
   "outputs": [],
   "source": [
    "training.to_csv(\"./训练集/training_data.csv\", index=False)"
   ]
  },
  {
   "cell_type": "code",
   "execution_count": null,
   "id": "b6f683a3-e34f-45da-91d9-bcbe59d85dc6",
   "metadata": {},
   "outputs": [],
   "source": []
  },
  {
   "cell_type": "markdown",
   "id": "ceee7e09-d981-46d2-9582-633c2ace36c8",
   "metadata": {},
   "source": [
    "## test"
   ]
  },
  {
   "cell_type": "markdown",
   "id": "46e87995-d11b-41fd-a268-0ebddb529d21",
   "metadata": {},
   "source": [
    "### items"
   ]
  },
  {
   "cell_type": "code",
   "execution_count": 81,
   "id": "3a4173e0-27b4-497d-ae61-b812e7da5b99",
   "metadata": {
    "execution": {
     "iopub.execute_input": "2023-07-10T09:56:14.904178Z",
     "iopub.status.busy": "2023-07-10T09:56:14.903816Z",
     "iopub.status.idle": "2023-07-10T09:56:14.912626Z",
     "shell.execute_reply": "2023-07-10T09:56:14.911382Z",
     "shell.execute_reply.started": "2023-07-10T09:56:14.904149Z"
    },
    "tags": []
   },
   "outputs": [
    {
     "data": {
      "text/plain": [
       "['part-00001', 'part-00000']"
      ]
     },
     "execution_count": 81,
     "metadata": {},
     "output_type": "execute_result"
    }
   ],
   "source": [
    "test_folder = \"./测试集a/predict_goods_id\"\n",
    "\n",
    "test_file_ls = os.listdir(test_folder)\n",
    "test_file_ls = [_file for _file in test_file_ls if _file.startswith(\"part\")]\n",
    "\n",
    "test_file_ls"
   ]
  },
  {
   "cell_type": "code",
   "execution_count": 89,
   "id": "88727057-5aca-43ce-a2a6-276d644e96ce",
   "metadata": {
    "execution": {
     "iopub.execute_input": "2023-07-10T10:10:46.584446Z",
     "iopub.status.busy": "2023-07-10T10:10:46.584088Z",
     "iopub.status.idle": "2023-07-10T10:10:47.950467Z",
     "shell.execute_reply": "2023-07-10T10:10:47.949512Z",
     "shell.execute_reply.started": "2023-07-10T10:10:46.584420Z"
    },
    "tags": []
   },
   "outputs": [
    {
     "name": "stderr",
     "output_type": "stream",
     "text": [
      "100%|███████████████████████████████████████████████████████████████████████████████████████████████████████████████████████████████████████████████████████████████████████████| 2/2 [00:01<00:00,  1.52it/s]\n"
     ]
    }
   ],
   "source": [
    "test_ls = []\n",
    "\n",
    "for _file in tqdm(test_file_ls):\n",
    "    test_ls.append(\n",
    "        pd.read_csv(\n",
    "            os.path.join(test_folder, _file),\n",
    "            names=[\"goods_id\"]\n",
    "        )\n",
    "    )"
   ]
  },
  {
   "cell_type": "code",
   "execution_count": 90,
   "id": "61ae330b-7da2-4ba5-b6c1-9e40b9ee9b46",
   "metadata": {
    "execution": {
     "iopub.execute_input": "2023-07-10T10:10:49.495496Z",
     "iopub.status.busy": "2023-07-10T10:10:49.495085Z",
     "iopub.status.idle": "2023-07-10T10:10:49.519785Z",
     "shell.execute_reply": "2023-07-10T10:10:49.518890Z",
     "shell.execute_reply.started": "2023-07-10T10:10:49.495466Z"
    },
    "tags": []
   },
   "outputs": [],
   "source": [
    "test_items = pd.concat(test_ls, ignore_index=True)"
   ]
  },
  {
   "cell_type": "code",
   "execution_count": null,
   "id": "acfa7df4-6e51-4e84-82bb-8aee94a0bb03",
   "metadata": {},
   "outputs": [],
   "source": []
  },
  {
   "cell_type": "code",
   "execution_count": 94,
   "id": "7b2b6ae0-65f3-41ee-9c31-fd648f7ddfad",
   "metadata": {
    "execution": {
     "iopub.execute_input": "2023-07-10T10:11:11.663443Z",
     "iopub.status.busy": "2023-07-10T10:11:11.663080Z",
     "iopub.status.idle": "2023-07-10T10:11:16.114134Z",
     "shell.execute_reply": "2023-07-10T10:11:16.113124Z",
     "shell.execute_reply.started": "2023-07-10T10:11:11.663415Z"
    },
    "tags": []
   },
   "outputs": [],
   "source": [
    "test_item_set = set(test_items[\"goods_id\"].unique())\n",
    "train_item_set = set(purchase[\"goods_id\"].unique())"
   ]
  },
  {
   "cell_type": "code",
   "execution_count": 95,
   "id": "afaa612e-60d0-4d34-832d-0defd4bacc8a",
   "metadata": {
    "execution": {
     "iopub.execute_input": "2023-07-10T10:11:17.263455Z",
     "iopub.status.busy": "2023-07-10T10:11:17.263091Z",
     "iopub.status.idle": "2023-07-10T10:11:17.270278Z",
     "shell.execute_reply": "2023-07-10T10:11:17.269374Z",
     "shell.execute_reply.started": "2023-07-10T10:11:17.263426Z"
    },
    "tags": []
   },
   "outputs": [
    {
     "data": {
      "text/plain": [
       "(1367964, 1531577)"
      ]
     },
     "execution_count": 95,
     "metadata": {},
     "output_type": "execute_result"
    }
   ],
   "source": [
    "len(test_item_set), len(train_item_set)"
   ]
  },
  {
   "cell_type": "code",
   "execution_count": 96,
   "id": "f0be31be-6674-4ccb-bb5b-6d6617901154",
   "metadata": {
    "execution": {
     "iopub.execute_input": "2023-07-10T10:11:27.753861Z",
     "iopub.status.busy": "2023-07-10T10:11:27.753480Z",
     "iopub.status.idle": "2023-07-10T10:11:27.760398Z",
     "shell.execute_reply": "2023-07-10T10:11:27.758620Z",
     "shell.execute_reply.started": "2023-07-10T10:11:27.753832Z"
    },
    "tags": []
   },
   "outputs": [
    {
     "data": {
      "text/plain": [
       "False"
      ]
     },
     "execution_count": 96,
     "metadata": {},
     "output_type": "execute_result"
    }
   ],
   "source": [
    "test_item_set.issubset(train_item_set)"
   ]
  },
  {
   "cell_type": "code",
   "execution_count": 98,
   "id": "5fd6318f-a4fb-41ea-889e-734897c159d9",
   "metadata": {
    "execution": {
     "iopub.execute_input": "2023-07-10T10:12:05.166369Z",
     "iopub.status.busy": "2023-07-10T10:12:05.165998Z",
     "iopub.status.idle": "2023-07-10T10:12:05.343331Z",
     "shell.execute_reply": "2023-07-10T10:12:05.341915Z",
     "shell.execute_reply.started": "2023-07-10T10:12:05.166339Z"
    },
    "tags": []
   },
   "outputs": [
    {
     "data": {
      "text/plain": [
       "456811"
      ]
     },
     "execution_count": 98,
     "metadata": {},
     "output_type": "execute_result"
    }
   ],
   "source": [
    "len(test_item_set.difference(train_item_set))"
   ]
  },
  {
   "cell_type": "code",
   "execution_count": null,
   "id": "a81e5ab2-fbf5-43a5-8d15-8e611a447402",
   "metadata": {},
   "outputs": [],
   "source": []
  },
  {
   "cell_type": "markdown",
   "id": "26108536-8bbe-4a26-b8e5-4383842d9f97",
   "metadata": {},
   "source": [
    "### users"
   ]
  },
  {
   "cell_type": "code",
   "execution_count": 100,
   "id": "b0333536-e9c7-438a-bff9-1cfe7e08ab62",
   "metadata": {
    "execution": {
     "iopub.execute_input": "2023-07-10T10:14:45.751406Z",
     "iopub.status.busy": "2023-07-10T10:14:45.750930Z",
     "iopub.status.idle": "2023-07-10T10:14:46.010268Z",
     "shell.execute_reply": "2023-07-10T10:14:46.009581Z",
     "shell.execute_reply.started": "2023-07-10T10:14:45.751377Z"
    },
    "tags": []
   },
   "outputs": [
    {
     "data": {
      "text/html": [
       "<div>\n",
       "<style scoped>\n",
       "    .dataframe tbody tr th:only-of-type {\n",
       "        vertical-align: middle;\n",
       "    }\n",
       "\n",
       "    .dataframe tbody tr th {\n",
       "        vertical-align: top;\n",
       "    }\n",
       "\n",
       "    .dataframe thead th {\n",
       "        text-align: right;\n",
       "    }\n",
       "</style>\n",
       "<table border=\"1\" class=\"dataframe\">\n",
       "  <thead>\n",
       "    <tr style=\"text-align: right;\">\n",
       "      <th></th>\n",
       "      <th>user_id</th>\n",
       "    </tr>\n",
       "  </thead>\n",
       "  <tbody>\n",
       "    <tr>\n",
       "      <th>0</th>\n",
       "      <td>db55512e13c666a67dbfeae200bbb77e</td>\n",
       "    </tr>\n",
       "    <tr>\n",
       "      <th>1</th>\n",
       "      <td>6be82d1677c1eacfc615446329fa90b1</td>\n",
       "    </tr>\n",
       "    <tr>\n",
       "      <th>2</th>\n",
       "      <td>04672f37371f47e98247e3a426e33d44</td>\n",
       "    </tr>\n",
       "    <tr>\n",
       "      <th>3</th>\n",
       "      <td>887343b7ef8d77baed6b2fdfc4b8f536</td>\n",
       "    </tr>\n",
       "    <tr>\n",
       "      <th>4</th>\n",
       "      <td>95b336152a9e6aa6130233846ddcfc7a</td>\n",
       "    </tr>\n",
       "  </tbody>\n",
       "</table>\n",
       "</div>"
      ],
      "text/plain": [
       "                            user_id\n",
       "0  db55512e13c666a67dbfeae200bbb77e\n",
       "1  6be82d1677c1eacfc615446329fa90b1\n",
       "2  04672f37371f47e98247e3a426e33d44\n",
       "3  887343b7ef8d77baed6b2fdfc4b8f536\n",
       "4  95b336152a9e6aa6130233846ddcfc7a"
      ]
     },
     "execution_count": 100,
     "metadata": {},
     "output_type": "execute_result"
    }
   ],
   "source": [
    "test_users = pd.read_excel(\"./测试集a/a榜需要预测的uid_5000.xlsx\")\n",
    "test_users.head()"
   ]
  },
  {
   "cell_type": "code",
   "execution_count": 101,
   "id": "8da0d8fb-f5cf-4536-a88f-8d07367da3bd",
   "metadata": {
    "execution": {
     "iopub.execute_input": "2023-07-10T10:16:45.731811Z",
     "iopub.status.busy": "2023-07-10T10:16:45.731311Z",
     "iopub.status.idle": "2023-07-10T10:16:46.797006Z",
     "shell.execute_reply": "2023-07-10T10:16:46.795795Z",
     "shell.execute_reply.started": "2023-07-10T10:16:45.731779Z"
    },
    "tags": []
   },
   "outputs": [],
   "source": [
    "test_user_set = set(test_users[\"user_id\"].unique())\n",
    "train_user_set = set(purchase[\"user_id\"].unique())"
   ]
  },
  {
   "cell_type": "code",
   "execution_count": 102,
   "id": "763e1f94-2755-456e-9205-daf14f23b85e",
   "metadata": {
    "execution": {
     "iopub.execute_input": "2023-07-10T10:16:59.766926Z",
     "iopub.status.busy": "2023-07-10T10:16:59.766140Z",
     "iopub.status.idle": "2023-07-10T10:16:59.773705Z",
     "shell.execute_reply": "2023-07-10T10:16:59.772591Z",
     "shell.execute_reply.started": "2023-07-10T10:16:59.766893Z"
    },
    "tags": []
   },
   "outputs": [
    {
     "data": {
      "text/plain": [
       "(5000, 51602)"
      ]
     },
     "execution_count": 102,
     "metadata": {},
     "output_type": "execute_result"
    }
   ],
   "source": [
    "len(test_user_set), len(train_user_set)"
   ]
  },
  {
   "cell_type": "code",
   "execution_count": 103,
   "id": "72fb43a0-f33b-46d3-a794-a7357f7da72e",
   "metadata": {
    "execution": {
     "iopub.execute_input": "2023-07-10T10:17:13.295467Z",
     "iopub.status.busy": "2023-07-10T10:17:13.295101Z",
     "iopub.status.idle": "2023-07-10T10:17:13.303129Z",
     "shell.execute_reply": "2023-07-10T10:17:13.302174Z",
     "shell.execute_reply.started": "2023-07-10T10:17:13.295440Z"
    },
    "tags": []
   },
   "outputs": [
    {
     "data": {
      "text/plain": [
       "True"
      ]
     },
     "execution_count": 103,
     "metadata": {},
     "output_type": "execute_result"
    }
   ],
   "source": [
    "test_user_set.issubset(train_user_set)"
   ]
  },
  {
   "cell_type": "code",
   "execution_count": null,
   "id": "2de4013e-90ee-45a6-8231-9f9b5f83fac9",
   "metadata": {},
   "outputs": [],
   "source": []
  },
  {
   "cell_type": "code",
   "execution_count": null,
   "id": "6150d17b-2c0b-4399-8c33-3485d3571967",
   "metadata": {},
   "outputs": [],
   "source": []
  },
  {
   "cell_type": "markdown",
   "id": "9a5ee869-ad8b-492a-ac93-f798f13a0da4",
   "metadata": {},
   "source": [
    "# EDA"
   ]
  },
  {
   "cell_type": "markdown",
   "id": "57e0528d-7aef-4bb6-a1be-44352e9cd526",
   "metadata": {},
   "source": [
    "## 每天的点击、收藏、加购和成交量"
   ]
  },
  {
   "cell_type": "code",
   "execution_count": 53,
   "id": "bdfbec4e-fd59-4aca-84e3-48229f194790",
   "metadata": {
    "execution": {
     "iopub.execute_input": "2023-07-10T08:53:57.166854Z",
     "iopub.status.busy": "2023-07-10T08:53:57.166228Z",
     "iopub.status.idle": "2023-07-10T08:53:57.549172Z",
     "shell.execute_reply": "2023-07-10T08:53:57.548322Z",
     "shell.execute_reply.started": "2023-07-10T08:53:57.166824Z"
    },
    "tags": []
   },
   "outputs": [
    {
     "data": {
      "text/html": [
       "<div>\n",
       "<style scoped>\n",
       "    .dataframe tbody tr th:only-of-type {\n",
       "        vertical-align: middle;\n",
       "    }\n",
       "\n",
       "    .dataframe tbody tr th {\n",
       "        vertical-align: top;\n",
       "    }\n",
       "\n",
       "    .dataframe thead th {\n",
       "        text-align: right;\n",
       "    }\n",
       "</style>\n",
       "<table border=\"1\" class=\"dataframe\">\n",
       "  <thead>\n",
       "    <tr style=\"text-align: right;\">\n",
       "      <th></th>\n",
       "      <th>dt</th>\n",
       "      <th>is_click</th>\n",
       "      <th>is_like</th>\n",
       "      <th>is_addcart</th>\n",
       "      <th>is_order</th>\n",
       "    </tr>\n",
       "  </thead>\n",
       "  <tbody>\n",
       "    <tr>\n",
       "      <th>0</th>\n",
       "      <td>20230203</td>\n",
       "      <td>558766</td>\n",
       "      <td>8280</td>\n",
       "      <td>35293</td>\n",
       "      <td>3984</td>\n",
       "    </tr>\n",
       "    <tr>\n",
       "      <th>1</th>\n",
       "      <td>20230204</td>\n",
       "      <td>321786</td>\n",
       "      <td>5116</td>\n",
       "      <td>18852</td>\n",
       "      <td>1968</td>\n",
       "    </tr>\n",
       "    <tr>\n",
       "      <th>2</th>\n",
       "      <td>20230205</td>\n",
       "      <td>282428</td>\n",
       "      <td>4496</td>\n",
       "      <td>16767</td>\n",
       "      <td>1843</td>\n",
       "    </tr>\n",
       "    <tr>\n",
       "      <th>3</th>\n",
       "      <td>20230206</td>\n",
       "      <td>271395</td>\n",
       "      <td>4416</td>\n",
       "      <td>15845</td>\n",
       "      <td>1990</td>\n",
       "    </tr>\n",
       "    <tr>\n",
       "      <th>4</th>\n",
       "      <td>20230207</td>\n",
       "      <td>298889</td>\n",
       "      <td>4551</td>\n",
       "      <td>18245</td>\n",
       "      <td>2364</td>\n",
       "    </tr>\n",
       "  </tbody>\n",
       "</table>\n",
       "</div>"
      ],
      "text/plain": [
       "         dt  is_click  is_like  is_addcart  is_order\n",
       "0  20230203    558766     8280       35293      3984\n",
       "1  20230204    321786     5116       18852      1968\n",
       "2  20230205    282428     4496       16767      1843\n",
       "3  20230206    271395     4416       15845      1990\n",
       "4  20230207    298889     4551       18245      2364"
      ]
     },
     "execution_count": 53,
     "metadata": {},
     "output_type": "execute_result"
    }
   ],
   "source": [
    "groupby_dt = training.groupby(\"dt\", as_index=False)[[\"is_click\", \"is_like\", \"is_addcart\", \"is_order\"]].sum()\n",
    "groupby_dt.head()"
   ]
  },
  {
   "cell_type": "code",
   "execution_count": 54,
   "id": "755dc6cf-ff28-49ac-9c36-52f77d8024a7",
   "metadata": {
    "execution": {
     "iopub.execute_input": "2023-07-10T08:53:58.399615Z",
     "iopub.status.busy": "2023-07-10T08:53:58.399262Z",
     "iopub.status.idle": "2023-07-10T08:53:58.406332Z",
     "shell.execute_reply": "2023-07-10T08:53:58.405474Z",
     "shell.execute_reply.started": "2023-07-10T08:53:58.399589Z"
    },
    "tags": []
   },
   "outputs": [],
   "source": [
    "groupby_dt[\"dt\"] = pd.to_datetime(groupby_dt[\"dt\"], format=\"%Y%m%d\")"
   ]
  },
  {
   "cell_type": "code",
   "execution_count": 62,
   "id": "8b6bafd8-64ba-47eb-bd94-8eb02e241bae",
   "metadata": {
    "execution": {
     "iopub.execute_input": "2023-07-10T09:27:42.898954Z",
     "iopub.status.busy": "2023-07-10T09:27:42.898588Z",
     "iopub.status.idle": "2023-07-10T09:27:43.273348Z",
     "shell.execute_reply": "2023-07-10T09:27:43.272137Z",
     "shell.execute_reply.started": "2023-07-10T09:27:42.898924Z"
    },
    "tags": []
   },
   "outputs": [
    {
     "data": {
      "image/png": "[encoded data removed]",
      "text/plain": [
       "<Figure size 800x400 with 1 Axes>"
      ]
     },
     "metadata": {},
     "output_type": "display_data"
    }
   ],
   "source": [
    "sns.set(\n",
    "    rc={\n",
    "        'figure.figsize': (8, 4)\n",
    "    }\n",
    ")\n",
    "\n",
    "sns.lineplot(data=groupby_dt, x=\"dt\", y=\"is_click\");"
   ]
  },
  {
   "cell_type": "code",
   "execution_count": 66,
   "id": "8e3489dd-695a-4005-bf18-4d1815a84cd2",
   "metadata": {
    "execution": {
     "iopub.execute_input": "2023-07-10T09:27:56.352997Z",
     "iopub.status.busy": "2023-07-10T09:27:56.352631Z",
     "iopub.status.idle": "2023-07-10T09:27:56.711049Z",
     "shell.execute_reply": "2023-07-10T09:27:56.710429Z",
     "shell.execute_reply.started": "2023-07-10T09:27:56.352970Z"
    },
    "tags": []
   },
   "outputs": [
    {
     "data": {
      "image/png": "[encoded data removed]",
      "text/plain": [
       "<Figure size 800x400 with 1 Axes>"
      ]
     },
     "metadata": {},
     "output_type": "display_data"
    }
   ],
   "source": [
    "sns.lineplot(data=groupby_dt, x=\"dt\", y=\"is_like\");"
   ]
  },
  {
   "cell_type": "code",
   "execution_count": 67,
   "id": "316bf360-e1ec-4fca-93e6-a9a3138f101a",
   "metadata": {
    "execution": {
     "iopub.execute_input": "2023-07-10T09:27:58.229261Z",
     "iopub.status.busy": "2023-07-10T09:27:58.228628Z",
     "iopub.status.idle": "2023-07-10T09:27:58.584015Z",
     "shell.execute_reply": "2023-07-10T09:27:58.582776Z",
     "shell.execute_reply.started": "2023-07-10T09:27:58.229232Z"
    },
    "tags": []
   },
   "outputs": [
    {
     "data": {
      "image/png": "[encoded data removed]",
      "text/plain": [
       "<Figure size 800x400 with 1 Axes>"
      ]
     },
     "metadata": {},
     "output_type": "display_data"
    }
   ],
   "source": [
    "sns.lineplot(data=groupby_dt, x=\"dt\", y=\"is_addcart\");"
   ]
  },
  {
   "cell_type": "code",
   "execution_count": 68,
   "id": "951d9385-0e1c-4505-ae63-a4e693b58318",
   "metadata": {
    "execution": {
     "iopub.execute_input": "2023-07-10T09:28:00.932377Z",
     "iopub.status.busy": "2023-07-10T09:28:00.931764Z",
     "iopub.status.idle": "2023-07-10T09:28:01.287557Z",
     "shell.execute_reply": "2023-07-10T09:28:01.286792Z",
     "shell.execute_reply.started": "2023-07-10T09:28:00.932337Z"
    },
    "tags": []
   },
   "outputs": [
    {
     "data": {
      "image/png": "[encoded data removed]",
      "text/plain": [
       "<Figure size 800x400 with 1 Axes>"
      ]
     },
     "metadata": {},
     "output_type": "display_data"
    }
   ],
   "source": [
    "sns.lineplot(data=groupby_dt, x=\"dt\", y=\"is_order\");"
   ]
  },
  {
   "cell_type": "code",
   "execution_count": null,
   "id": "adc92785-1bd3-4717-8049-e3f8a16f6044",
   "metadata": {},
   "outputs": [],
   "source": []
  },
  {
   "cell_type": "code",
   "execution_count": null,
   "id": "6865d5b6-8980-4f01-a86c-2ff31f931c62",
   "metadata": {},
   "outputs": [],
   "source": []
  },
  {
   "cell_type": "markdown",
   "id": "9e24b0d0-e550-4594-bd3b-c9a207727ee5",
   "metadata": {},
   "source": [
    "## 每人的点击、收藏、加购和成交量"
   ]
  },
  {
   "cell_type": "code",
   "execution_count": 71,
   "id": "18cfb9b3-fa86-4576-8029-b43e9fddc9a2",
   "metadata": {
    "execution": {
     "iopub.execute_input": "2023-07-10T09:40:58.171285Z",
     "iopub.status.busy": "2023-07-10T09:40:58.170645Z",
     "iopub.status.idle": "2023-07-10T09:40:58.656124Z",
     "shell.execute_reply": "2023-07-10T09:40:58.655294Z",
     "shell.execute_reply.started": "2023-07-10T09:40:58.171255Z"
    },
    "tags": []
   },
   "outputs": [
    {
     "data": {
      "text/html": [
       "<div>\n",
       "<style scoped>\n",
       "    .dataframe tbody tr th:only-of-type {\n",
       "        vertical-align: middle;\n",
       "    }\n",
       "\n",
       "    .dataframe tbody tr th {\n",
       "        vertical-align: top;\n",
       "    }\n",
       "\n",
       "    .dataframe thead th {\n",
       "        text-align: right;\n",
       "    }\n",
       "</style>\n",
       "<table border=\"1\" class=\"dataframe\">\n",
       "  <thead>\n",
       "    <tr style=\"text-align: right;\">\n",
       "      <th></th>\n",
       "      <th>user_id</th>\n",
       "      <th>is_click</th>\n",
       "      <th>is_like</th>\n",
       "      <th>is_addcart</th>\n",
       "      <th>is_order</th>\n",
       "    </tr>\n",
       "  </thead>\n",
       "  <tbody>\n",
       "    <tr>\n",
       "      <th>0</th>\n",
       "      <td>0</td>\n",
       "      <td>1267</td>\n",
       "      <td>1</td>\n",
       "      <td>104</td>\n",
       "      <td>3</td>\n",
       "    </tr>\n",
       "    <tr>\n",
       "      <th>1</th>\n",
       "      <td>1</td>\n",
       "      <td>693</td>\n",
       "      <td>0</td>\n",
       "      <td>21</td>\n",
       "      <td>7</td>\n",
       "    </tr>\n",
       "    <tr>\n",
       "      <th>2</th>\n",
       "      <td>2</td>\n",
       "      <td>554</td>\n",
       "      <td>0</td>\n",
       "      <td>65</td>\n",
       "      <td>0</td>\n",
       "    </tr>\n",
       "    <tr>\n",
       "      <th>3</th>\n",
       "      <td>3</td>\n",
       "      <td>41</td>\n",
       "      <td>0</td>\n",
       "      <td>1</td>\n",
       "      <td>1</td>\n",
       "    </tr>\n",
       "    <tr>\n",
       "      <th>4</th>\n",
       "      <td>4</td>\n",
       "      <td>774</td>\n",
       "      <td>0</td>\n",
       "      <td>122</td>\n",
       "      <td>0</td>\n",
       "    </tr>\n",
       "    <tr>\n",
       "      <th>...</th>\n",
       "      <td>...</td>\n",
       "      <td>...</td>\n",
       "      <td>...</td>\n",
       "      <td>...</td>\n",
       "      <td>...</td>\n",
       "    </tr>\n",
       "    <tr>\n",
       "      <th>51596</th>\n",
       "      <td>51596</td>\n",
       "      <td>1</td>\n",
       "      <td>0</td>\n",
       "      <td>0</td>\n",
       "      <td>0</td>\n",
       "    </tr>\n",
       "    <tr>\n",
       "      <th>51597</th>\n",
       "      <td>51597</td>\n",
       "      <td>1</td>\n",
       "      <td>0</td>\n",
       "      <td>0</td>\n",
       "      <td>0</td>\n",
       "    </tr>\n",
       "    <tr>\n",
       "      <th>51598</th>\n",
       "      <td>51598</td>\n",
       "      <td>1</td>\n",
       "      <td>0</td>\n",
       "      <td>0</td>\n",
       "      <td>0</td>\n",
       "    </tr>\n",
       "    <tr>\n",
       "      <th>51599</th>\n",
       "      <td>51599</td>\n",
       "      <td>1</td>\n",
       "      <td>0</td>\n",
       "      <td>0</td>\n",
       "      <td>0</td>\n",
       "    </tr>\n",
       "    <tr>\n",
       "      <th>51600</th>\n",
       "      <td>51600</td>\n",
       "      <td>1</td>\n",
       "      <td>0</td>\n",
       "      <td>0</td>\n",
       "      <td>0</td>\n",
       "    </tr>\n",
       "  </tbody>\n",
       "</table>\n",
       "<p>51601 rows × 5 columns</p>\n",
       "</div>"
      ],
      "text/plain": [
       "       user_id  is_click  is_like  is_addcart  is_order\n",
       "0            0      1267        1         104         3\n",
       "1            1       693        0          21         7\n",
       "2            2       554        0          65         0\n",
       "3            3        41        0           1         1\n",
       "4            4       774        0         122         0\n",
       "...        ...       ...      ...         ...       ...\n",
       "51596    51596         1        0           0         0\n",
       "51597    51597         1        0           0         0\n",
       "51598    51598         1        0           0         0\n",
       "51599    51599         1        0           0         0\n",
       "51600    51600         1        0           0         0\n",
       "\n",
       "[51601 rows x 5 columns]"
      ]
     },
     "execution_count": 71,
     "metadata": {},
     "output_type": "execute_result"
    }
   ],
   "source": [
    "groupby_user = training.groupby(\"user_id\", as_index=False)[[\"is_click\", \"is_like\", \"is_addcart\", \"is_order\"]].sum()\n",
    "groupby_user"
   ]
  },
  {
   "cell_type": "code",
   "execution_count": 110,
   "id": "a5bf00a3-c6ff-4e1e-a696-8239f3406d73",
   "metadata": {
    "execution": {
     "iopub.execute_input": "2023-07-10T11:11:16.845331Z",
     "iopub.status.busy": "2023-07-10T11:11:16.844852Z",
     "iopub.status.idle": "2023-07-10T11:11:16.942854Z",
     "shell.execute_reply": "2023-07-10T11:11:16.941941Z",
     "shell.execute_reply.started": "2023-07-10T11:11:16.845299Z"
    },
    "tags": []
   },
   "outputs": [
    {
     "data": {
      "text/html": [
       "<div>\n",
       "<style scoped>\n",
       "    .dataframe tbody tr th:only-of-type {\n",
       "        vertical-align: middle;\n",
       "    }\n",
       "\n",
       "    .dataframe tbody tr th {\n",
       "        vertical-align: top;\n",
       "    }\n",
       "\n",
       "    .dataframe thead th {\n",
       "        text-align: right;\n",
       "    }\n",
       "</style>\n",
       "<table border=\"1\" class=\"dataframe\">\n",
       "  <thead>\n",
       "    <tr style=\"text-align: right;\">\n",
       "      <th></th>\n",
       "      <th>user_id</th>\n",
       "      <th>is_click</th>\n",
       "      <th>is_like</th>\n",
       "      <th>is_addcart</th>\n",
       "      <th>is_order</th>\n",
       "    </tr>\n",
       "  </thead>\n",
       "  <tbody>\n",
       "    <tr>\n",
       "      <th>count</th>\n",
       "      <td>51601.000000</td>\n",
       "      <td>51601.000000</td>\n",
       "      <td>51601.000000</td>\n",
       "      <td>51601.000000</td>\n",
       "      <td>51601.000000</td>\n",
       "    </tr>\n",
       "    <tr>\n",
       "      <th>mean</th>\n",
       "      <td>25800.000000</td>\n",
       "      <td>159.811845</td>\n",
       "      <td>2.547625</td>\n",
       "      <td>9.374915</td>\n",
       "      <td>1.116199</td>\n",
       "    </tr>\n",
       "    <tr>\n",
       "      <th>std</th>\n",
       "      <td>14896.069957</td>\n",
       "      <td>293.848019</td>\n",
       "      <td>15.239224</td>\n",
       "      <td>21.756308</td>\n",
       "      <td>2.666928</td>\n",
       "    </tr>\n",
       "    <tr>\n",
       "      <th>min</th>\n",
       "      <td>0.000000</td>\n",
       "      <td>1.000000</td>\n",
       "      <td>0.000000</td>\n",
       "      <td>0.000000</td>\n",
       "      <td>0.000000</td>\n",
       "    </tr>\n",
       "    <tr>\n",
       "      <th>25%</th>\n",
       "      <td>12900.000000</td>\n",
       "      <td>16.000000</td>\n",
       "      <td>0.000000</td>\n",
       "      <td>0.000000</td>\n",
       "      <td>0.000000</td>\n",
       "    </tr>\n",
       "    <tr>\n",
       "      <th>50%</th>\n",
       "      <td>25800.000000</td>\n",
       "      <td>61.000000</td>\n",
       "      <td>0.000000</td>\n",
       "      <td>3.000000</td>\n",
       "      <td>0.000000</td>\n",
       "    </tr>\n",
       "    <tr>\n",
       "      <th>75%</th>\n",
       "      <td>38700.000000</td>\n",
       "      <td>182.000000</td>\n",
       "      <td>0.000000</td>\n",
       "      <td>10.000000</td>\n",
       "      <td>1.000000</td>\n",
       "    </tr>\n",
       "    <tr>\n",
       "      <th>max</th>\n",
       "      <td>51600.000000</td>\n",
       "      <td>16308.000000</td>\n",
       "      <td>970.000000</td>\n",
       "      <td>1286.000000</td>\n",
       "      <td>96.000000</td>\n",
       "    </tr>\n",
       "  </tbody>\n",
       "</table>\n",
       "</div>"
      ],
      "text/plain": [
       "            user_id      is_click       is_like    is_addcart      is_order\n",
       "count  51601.000000  51601.000000  51601.000000  51601.000000  51601.000000\n",
       "mean   25800.000000    159.811845      2.547625      9.374915      1.116199\n",
       "std    14896.069957    293.848019     15.239224     21.756308      2.666928\n",
       "min        0.000000      1.000000      0.000000      0.000000      0.000000\n",
       "25%    12900.000000     16.000000      0.000000      0.000000      0.000000\n",
       "50%    25800.000000     61.000000      0.000000      3.000000      0.000000\n",
       "75%    38700.000000    182.000000      0.000000     10.000000      1.000000\n",
       "max    51600.000000  16308.000000    970.000000   1286.000000     96.000000"
      ]
     },
     "execution_count": 110,
     "metadata": {},
     "output_type": "execute_result"
    }
   ],
   "source": [
    "groupby_user.describe()"
   ]
  },
  {
   "cell_type": "code",
   "execution_count": null,
   "id": "b333fcdb-dfa6-4ef7-ba68-a7d0c08a7f83",
   "metadata": {},
   "outputs": [],
   "source": []
  },
  {
   "cell_type": "code",
   "execution_count": null,
   "id": "b746fab2-d141-4498-bb20-e15404522c70",
   "metadata": {},
   "outputs": [],
   "source": []
  },
  {
   "cell_type": "code",
   "execution_count": 76,
   "id": "512312fc-0782-4fbc-a370-85c717ca8464",
   "metadata": {
    "execution": {
     "iopub.execute_input": "2023-07-10T09:43:16.721153Z",
     "iopub.status.busy": "2023-07-10T09:43:16.720543Z",
     "iopub.status.idle": "2023-07-10T09:43:17.149449Z",
     "shell.execute_reply": "2023-07-10T09:43:17.148649Z",
     "shell.execute_reply.started": "2023-07-10T09:43:16.721120Z"
    },
    "tags": []
   },
   "outputs": [
    {
     "data": {
      "image/png": "[encoded data removed]",
      "text/plain": [
       "<Figure size 800x400 with 1 Axes>"
      ]
     },
     "metadata": {},
     "output_type": "display_data"
    }
   ],
   "source": [
    "y = groupby_user[\"is_click\"].sort_values(ascending=False)\n",
    "x = [i for i in range(groupby_user.shape[0])]\n",
    "\n",
    "sns.lineplot(x=x, y=y);"
   ]
  },
  {
   "cell_type": "code",
   "execution_count": 77,
   "id": "27a02152-1525-48dd-b10b-89f76803deb8",
   "metadata": {
    "execution": {
     "iopub.execute_input": "2023-07-10T09:43:42.129303Z",
     "iopub.status.busy": "2023-07-10T09:43:42.128470Z",
     "iopub.status.idle": "2023-07-10T09:43:42.726591Z",
     "shell.execute_reply": "2023-07-10T09:43:42.725894Z",
     "shell.execute_reply.started": "2023-07-10T09:43:42.129270Z"
    },
    "tags": []
   },
   "outputs": [
    {
     "data": {
      "image/png": "[encoded data removed]",
      "text/plain": [
       "<Figure size 800x400 with 1 Axes>"
      ]
     },
     "metadata": {},
     "output_type": "display_data"
    }
   ],
   "source": [
    "y = groupby_user[\"is_like\"].sort_values(ascending=False)\n",
    "x = [i for i in range(groupby_user.shape[0])]\n",
    "\n",
    "sns.lineplot(x=x, y=y);"
   ]
  },
  {
   "cell_type": "code",
   "execution_count": 78,
   "id": "180dcb06-dcad-48ab-84a5-75c4d4304d75",
   "metadata": {
    "execution": {
     "iopub.execute_input": "2023-07-10T09:43:47.395910Z",
     "iopub.status.busy": "2023-07-10T09:43:47.395478Z",
     "iopub.status.idle": "2023-07-10T09:43:47.872482Z",
     "shell.execute_reply": "2023-07-10T09:43:47.871811Z",
     "shell.execute_reply.started": "2023-07-10T09:43:47.395882Z"
    },
    "tags": []
   },
   "outputs": [
    {
     "data": {
      "image/png": "[encoded data removed]",
      "text/plain": [
       "<Figure size 800x400 with 1 Axes>"
      ]
     },
     "metadata": {},
     "output_type": "display_data"
    }
   ],
   "source": [
    "y = groupby_user[\"is_addcart\"].sort_values(ascending=False)\n",
    "x = [i for i in range(groupby_user.shape[0])]\n",
    "\n",
    "sns.lineplot(x=x, y=y);"
   ]
  },
  {
   "cell_type": "code",
   "execution_count": 79,
   "id": "e8036589-c30d-42b2-93cf-7a2e45d9ba16",
   "metadata": {
    "execution": {
     "iopub.execute_input": "2023-07-10T09:43:51.563715Z",
     "iopub.status.busy": "2023-07-10T09:43:51.563335Z",
     "iopub.status.idle": "2023-07-10T09:43:51.969773Z",
     "shell.execute_reply": "2023-07-10T09:43:51.969136Z",
     "shell.execute_reply.started": "2023-07-10T09:43:51.563684Z"
    },
    "tags": []
   },
   "outputs": [
    {
     "data": {
      "image/png": "[encoded data removed]",
      "text/plain": [
       "<Figure size 800x400 with 1 Axes>"
      ]
     },
     "metadata": {},
     "output_type": "display_data"
    }
   ],
   "source": [
    "y = groupby_user[\"is_order\"].sort_values(ascending=False)\n",
    "x = [i for i in range(groupby_user.shape[0])]\n",
    "\n",
    "sns.lineplot(x=x, y=y);"
   ]
  },
  {
   "cell_type": "code",
   "execution_count": null,
   "id": "f3cffe17-7c3a-4db6-9a08-ad64d46441ca",
   "metadata": {},
   "outputs": [],
   "source": []
  },
  {
   "cell_type": "code",
   "execution_count": null,
   "id": "858ebea9-c3d0-4d30-9a12-d0d9d52e474b",
   "metadata": {},
   "outputs": [],
   "source": []
  },
  {
   "cell_type": "markdown",
   "id": "be30b56a-d4a7-4de9-a6bd-5d1cf6a36e49",
   "metadata": {},
   "source": [
    "## 每件商品的点击、收藏、加购和成交量"
   ]
  },
  {
   "cell_type": "code",
   "execution_count": 104,
   "id": "79c36e8e-31f8-4720-8c8d-f0324eee883e",
   "metadata": {
    "execution": {
     "iopub.execute_input": "2023-07-10T10:27:36.139599Z",
     "iopub.status.busy": "2023-07-10T10:27:36.124839Z",
     "iopub.status.idle": "2023-07-10T10:27:37.450506Z",
     "shell.execute_reply": "2023-07-10T10:27:37.449623Z",
     "shell.execute_reply.started": "2023-07-10T10:27:36.139558Z"
    },
    "tags": []
   },
   "outputs": [
    {
     "data": {
      "text/html": [
       "<div>\n",
       "<style scoped>\n",
       "    .dataframe tbody tr th:only-of-type {\n",
       "        vertical-align: middle;\n",
       "    }\n",
       "\n",
       "    .dataframe tbody tr th {\n",
       "        vertical-align: top;\n",
       "    }\n",
       "\n",
       "    .dataframe thead th {\n",
       "        text-align: right;\n",
       "    }\n",
       "</style>\n",
       "<table border=\"1\" class=\"dataframe\">\n",
       "  <thead>\n",
       "    <tr style=\"text-align: right;\">\n",
       "      <th></th>\n",
       "      <th>goods_id</th>\n",
       "      <th>is_click</th>\n",
       "      <th>is_like</th>\n",
       "      <th>is_addcart</th>\n",
       "      <th>is_order</th>\n",
       "    </tr>\n",
       "  </thead>\n",
       "  <tbody>\n",
       "    <tr>\n",
       "      <th>0</th>\n",
       "      <td>51601</td>\n",
       "      <td>78</td>\n",
       "      <td>3</td>\n",
       "      <td>2</td>\n",
       "      <td>0</td>\n",
       "    </tr>\n",
       "    <tr>\n",
       "      <th>1</th>\n",
       "      <td>51602</td>\n",
       "      <td>31</td>\n",
       "      <td>0</td>\n",
       "      <td>1</td>\n",
       "      <td>1</td>\n",
       "    </tr>\n",
       "    <tr>\n",
       "      <th>2</th>\n",
       "      <td>51603</td>\n",
       "      <td>2</td>\n",
       "      <td>0</td>\n",
       "      <td>0</td>\n",
       "      <td>0</td>\n",
       "    </tr>\n",
       "    <tr>\n",
       "      <th>3</th>\n",
       "      <td>51604</td>\n",
       "      <td>40</td>\n",
       "      <td>2</td>\n",
       "      <td>1</td>\n",
       "      <td>0</td>\n",
       "    </tr>\n",
       "    <tr>\n",
       "      <th>4</th>\n",
       "      <td>51605</td>\n",
       "      <td>6</td>\n",
       "      <td>0</td>\n",
       "      <td>0</td>\n",
       "      <td>0</td>\n",
       "    </tr>\n",
       "    <tr>\n",
       "      <th>...</th>\n",
       "      <td>...</td>\n",
       "      <td>...</td>\n",
       "      <td>...</td>\n",
       "      <td>...</td>\n",
       "      <td>...</td>\n",
       "    </tr>\n",
       "    <tr>\n",
       "      <th>1531521</th>\n",
       "      <td>1583122</td>\n",
       "      <td>1</td>\n",
       "      <td>0</td>\n",
       "      <td>0</td>\n",
       "      <td>0</td>\n",
       "    </tr>\n",
       "    <tr>\n",
       "      <th>1531522</th>\n",
       "      <td>1583123</td>\n",
       "      <td>1</td>\n",
       "      <td>0</td>\n",
       "      <td>0</td>\n",
       "      <td>0</td>\n",
       "    </tr>\n",
       "    <tr>\n",
       "      <th>1531523</th>\n",
       "      <td>1583124</td>\n",
       "      <td>1</td>\n",
       "      <td>0</td>\n",
       "      <td>0</td>\n",
       "      <td>0</td>\n",
       "    </tr>\n",
       "    <tr>\n",
       "      <th>1531524</th>\n",
       "      <td>1583125</td>\n",
       "      <td>1</td>\n",
       "      <td>0</td>\n",
       "      <td>0</td>\n",
       "      <td>0</td>\n",
       "    </tr>\n",
       "    <tr>\n",
       "      <th>1531525</th>\n",
       "      <td>1583126</td>\n",
       "      <td>1</td>\n",
       "      <td>0</td>\n",
       "      <td>0</td>\n",
       "      <td>0</td>\n",
       "    </tr>\n",
       "  </tbody>\n",
       "</table>\n",
       "<p>1531526 rows × 5 columns</p>\n",
       "</div>"
      ],
      "text/plain": [
       "         goods_id  is_click  is_like  is_addcart  is_order\n",
       "0           51601        78        3           2         0\n",
       "1           51602        31        0           1         1\n",
       "2           51603         2        0           0         0\n",
       "3           51604        40        2           1         0\n",
       "4           51605         6        0           0         0\n",
       "...           ...       ...      ...         ...       ...\n",
       "1531521   1583122         1        0           0         0\n",
       "1531522   1583123         1        0           0         0\n",
       "1531523   1583124         1        0           0         0\n",
       "1531524   1583125         1        0           0         0\n",
       "1531525   1583126         1        0           0         0\n",
       "\n",
       "[1531526 rows x 5 columns]"
      ]
     },
     "execution_count": 104,
     "metadata": {},
     "output_type": "execute_result"
    }
   ],
   "source": [
    "groupby_item = training.groupby(\"goods_id\", as_index=False)[[\"is_click\", \"is_like\", \"is_addcart\", \"is_order\"]].sum()\n",
    "groupby_item"
   ]
  },
  {
   "cell_type": "code",
   "execution_count": 105,
   "id": "a836adf9-26db-49f0-b460-96609965661b",
   "metadata": {
    "execution": {
     "iopub.execute_input": "2023-07-10T10:28:42.940065Z",
     "iopub.status.busy": "2023-07-10T10:28:42.939671Z",
     "iopub.status.idle": "2023-07-10T10:28:48.391523Z",
     "shell.execute_reply": "2023-07-10T10:28:48.390845Z",
     "shell.execute_reply.started": "2023-07-10T10:28:42.940036Z"
    },
    "tags": []
   },
   "outputs": [
    {
     "data": {
      "image/png": "[encoded data removed]",
      "text/plain": [
       "<Figure size 800x400 with 1 Axes>"
      ]
     },
     "metadata": {},
     "output_type": "display_data"
    }
   ],
   "source": [
    "y = groupby_item[\"is_click\"].sort_values(ascending=False)\n",
    "x = [i for i in range(groupby_item.shape[0])]\n",
    "\n",
    "sns.lineplot(x=x, y=y);"
   ]
  },
  {
   "cell_type": "code",
   "execution_count": 107,
   "id": "5f990fdf-3d1c-4f36-9bd8-bd348d42ea7c",
   "metadata": {
    "execution": {
     "iopub.execute_input": "2023-07-10T10:29:15.775214Z",
     "iopub.status.busy": "2023-07-10T10:29:15.774127Z",
     "iopub.status.idle": "2023-07-10T10:29:20.994384Z",
     "shell.execute_reply": "2023-07-10T10:29:20.993697Z",
     "shell.execute_reply.started": "2023-07-10T10:29:15.775166Z"
    },
    "tags": []
   },
   "outputs": [
    {
     "data": {
      "image/png": "[encoded data removed]",
      "text/plain": [
       "<Figure size 800x400 with 1 Axes>"
      ]
     },
     "metadata": {},
     "output_type": "display_data"
    }
   ],
   "source": [
    "y = groupby_item[\"is_like\"].sort_values(ascending=False)\n",
    "x = [i for i in range(groupby_item.shape[0])]\n",
    "\n",
    "sns.lineplot(x=x, y=y);"
   ]
  },
  {
   "cell_type": "code",
   "execution_count": 108,
   "id": "d24bd7f2-f8af-4c39-b620-81bb0c4de69c",
   "metadata": {
    "execution": {
     "iopub.execute_input": "2023-07-10T10:29:25.516832Z",
     "iopub.status.busy": "2023-07-10T10:29:25.516211Z",
     "iopub.status.idle": "2023-07-10T10:29:30.735565Z",
     "shell.execute_reply": "2023-07-10T10:29:30.734761Z",
     "shell.execute_reply.started": "2023-07-10T10:29:25.516802Z"
    },
    "tags": []
   },
   "outputs": [
    {
     "data": {
      "image/png": "[encoded data removed]",
      "text/plain": [
       "<Figure size 800x400 with 1 Axes>"
      ]
     },
     "metadata": {},
     "output_type": "display_data"
    }
   ],
   "source": [
    "y = groupby_item[\"is_addcart\"].sort_values(ascending=False)\n",
    "x = [i for i in range(groupby_item.shape[0])]\n",
    "\n",
    "sns.lineplot(x=x, y=y);"
   ]
  },
  {
   "cell_type": "code",
   "execution_count": 109,
   "id": "11d2ad37-94d7-4f64-9cb1-80db1ca85826",
   "metadata": {
    "execution": {
     "iopub.execute_input": "2023-07-10T10:29:30.739085Z",
     "iopub.status.busy": "2023-07-10T10:29:30.738788Z",
     "iopub.status.idle": "2023-07-10T10:29:35.807817Z",
     "shell.execute_reply": "2023-07-10T10:29:35.807231Z",
     "shell.execute_reply.started": "2023-07-10T10:29:30.739065Z"
    },
    "tags": []
   },
   "outputs": [
    {
     "data": {
      "image/png": "[encoded data removed]",
      "text/plain": [
       "<Figure size 800x400 with 1 Axes>"
      ]
     },
     "metadata": {},
     "output_type": "display_data"
    }
   ],
   "source": [
    "y = groupby_item[\"is_order\"].sort_values(ascending=False)\n",
    "x = [i for i in range(groupby_item.shape[0])]\n",
    "\n",
    "sns.lineplot(x=x, y=y);"
   ]
  },
  {
   "cell_type": "code",
   "execution_count": null,
   "id": "0cc6f115-e2c8-452f-9664-19a3b7e7fc90",
   "metadata": {},
   "outputs": [],
   "source": []
  },
  {
   "cell_type": "code",
   "execution_count": null,
   "id": "07b109fa-a2a5-444a-b519-02f0794d36c5",
   "metadata": {},
   "outputs": [],
   "source": []
  },
  {
   "cell_type": "code",
   "execution_count": null,
   "id": "2c09ce0a-eeae-418e-afd0-7804114f55e3",
   "metadata": {},
   "outputs": [],
   "source": []
  }
 ],
 "metadata": {
  "kernelspec": {
   "display_name": "Python 3 (ipykernel)",
   "language": "python",
   "name": "python3"
  },
  "language_info": {
   "codemirror_mode": {
    "name": "ipython",
    "version": 3
   },
   "file_extension": ".py",
   "mimetype": "text/x-python",
   "name": "python",
   "nbconvert_exporter": "python",
   "pygments_lexer": "ipython3",
   "version": "3.8.9"
  },
  "toc-autonumbering": true
 },
 "nbformat": 4,
 "nbformat_minor": 5
}
